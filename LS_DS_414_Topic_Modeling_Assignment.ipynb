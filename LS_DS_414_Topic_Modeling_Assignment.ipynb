{
 "cells": [
  {
   "cell_type": "markdown",
   "metadata": {},
   "source": [
    "<img align=\"left\" src=\"https://lever-client-logos.s3.amazonaws.com/864372b1-534c-480e-acd5-9711f850815c-1524247202159.png\" width=200>\n",
    "<br></br>\n",
    "<br></br>\n",
    "\n",
    "# Topic Modeling\n",
    "## *Data Science Unit 4 Sprint 1 Assignment 4*\n",
    "\n",
    "Analyze a corpus of Amazon reviews from Unit 4 Sprint 1 Module 1's lecture using topic modeling: \n",
    "\n",
    "- Fit a Gensim LDA topic model on Amazon Reviews\n",
    "- Select appropriate number of topics\n",
    "- Create some dope visualization of the topics\n",
    "- Write a few bullets on your findings in markdown at the end\n",
    "- **Note**: You don't *have* to use generators for this assignment"
   ]
  },
  {
   "cell_type": "markdown",
   "metadata": {},
   "source": [
    "### Imports"
   ]
  },
  {
   "cell_type": "code",
   "execution_count": 1,
   "metadata": {},
   "outputs": [],
   "source": [
    "import numpy as np\n",
    "import gensim\n",
    "import os\n",
    "import re\n",
    "\n",
    "from gensim.utils import simple_preprocess\n",
    "from gensim.parsing.preprocessing import STOPWORDS\n",
    "from gensim import corpora\n",
    "\n",
    "from gensim.models.ldamulticore import LdaMulticore\n",
    "\n",
    "import pandas as pd"
   ]
  },
  {
   "cell_type": "code",
   "execution_count": 2,
   "metadata": {},
   "outputs": [
    {
     "data": {
      "text/plain": [
       "'3.8.1'"
      ]
     },
     "execution_count": 2,
     "metadata": {},
     "output_type": "execute_result"
    }
   ],
   "source": [
    "# Check version (always a good idea for gensim)\n",
    "gensim.__version__"
   ]
  },
  {
   "cell_type": "markdown",
   "metadata": {},
   "source": [
    "### Get the Data"
   ]
  },
  {
   "cell_type": "code",
   "execution_count": 5,
   "metadata": {},
   "outputs": [],
   "source": [
    "path = '/Users/Neal/Documents/Lambda_Classnotes'"
   ]
  },
  {
   "cell_type": "code",
   "execution_count": 19,
   "metadata": {},
   "outputs": [],
   "source": [
    "df = pd.read_csv(path+'/Datafiniti_Amazon_Consumer_Reviews_of_Amazon_Products_May19.csv')"
   ]
  },
  {
   "cell_type": "code",
   "execution_count": 20,
   "metadata": {},
   "outputs": [
    {
     "data": {
      "text/html": [
       "<div>\n",
       "<style scoped>\n",
       "    .dataframe tbody tr th:only-of-type {\n",
       "        vertical-align: middle;\n",
       "    }\n",
       "\n",
       "    .dataframe tbody tr th {\n",
       "        vertical-align: top;\n",
       "    }\n",
       "\n",
       "    .dataframe thead th {\n",
       "        text-align: right;\n",
       "    }\n",
       "</style>\n",
       "<table border=\"1\" class=\"dataframe\">\n",
       "  <thead>\n",
       "    <tr style=\"text-align: right;\">\n",
       "      <th></th>\n",
       "      <th>id</th>\n",
       "      <th>dateAdded</th>\n",
       "      <th>dateUpdated</th>\n",
       "      <th>name</th>\n",
       "      <th>asins</th>\n",
       "      <th>brand</th>\n",
       "      <th>categories</th>\n",
       "      <th>primaryCategories</th>\n",
       "      <th>imageURLs</th>\n",
       "      <th>keys</th>\n",
       "      <th>...</th>\n",
       "      <th>reviews.didPurchase</th>\n",
       "      <th>reviews.doRecommend</th>\n",
       "      <th>reviews.id</th>\n",
       "      <th>reviews.numHelpful</th>\n",
       "      <th>reviews.rating</th>\n",
       "      <th>reviews.sourceURLs</th>\n",
       "      <th>reviews.text</th>\n",
       "      <th>reviews.title</th>\n",
       "      <th>reviews.username</th>\n",
       "      <th>sourceURLs</th>\n",
       "    </tr>\n",
       "  </thead>\n",
       "  <tbody>\n",
       "    <tr>\n",
       "      <th>0</th>\n",
       "      <td>AVpgNzjwLJeJML43Kpxn</td>\n",
       "      <td>2015-10-30T08:59:32Z</td>\n",
       "      <td>2019-04-25T09:08:16Z</td>\n",
       "      <td>AmazonBasics AAA Performance Alkaline Batterie...</td>\n",
       "      <td>B00QWO9P0O,B00LH3DMUO</td>\n",
       "      <td>Amazonbasics</td>\n",
       "      <td>AA,AAA,Health,Electronics,Health &amp; Household,C...</td>\n",
       "      <td>Health &amp; Beauty</td>\n",
       "      <td>https://images-na.ssl-images-amazon.com/images...</td>\n",
       "      <td>amazonbasics/hl002619,amazonbasicsaaaperforman...</td>\n",
       "      <td>...</td>\n",
       "      <td>NaN</td>\n",
       "      <td>NaN</td>\n",
       "      <td>NaN</td>\n",
       "      <td>NaN</td>\n",
       "      <td>3</td>\n",
       "      <td>https://www.amazon.com/product-reviews/B00QWO9...</td>\n",
       "      <td>I order 3 of them and one of the item is bad q...</td>\n",
       "      <td>... 3 of them and one of the item is bad quali...</td>\n",
       "      <td>Byger yang</td>\n",
       "      <td>https://www.barcodable.com/upc/841710106442,ht...</td>\n",
       "    </tr>\n",
       "    <tr>\n",
       "      <th>1</th>\n",
       "      <td>AVpgNzjwLJeJML43Kpxn</td>\n",
       "      <td>2015-10-30T08:59:32Z</td>\n",
       "      <td>2019-04-25T09:08:16Z</td>\n",
       "      <td>AmazonBasics AAA Performance Alkaline Batterie...</td>\n",
       "      <td>B00QWO9P0O,B00LH3DMUO</td>\n",
       "      <td>Amazonbasics</td>\n",
       "      <td>AA,AAA,Health,Electronics,Health &amp; Household,C...</td>\n",
       "      <td>Health &amp; Beauty</td>\n",
       "      <td>https://images-na.ssl-images-amazon.com/images...</td>\n",
       "      <td>amazonbasics/hl002619,amazonbasicsaaaperforman...</td>\n",
       "      <td>...</td>\n",
       "      <td>NaN</td>\n",
       "      <td>NaN</td>\n",
       "      <td>NaN</td>\n",
       "      <td>NaN</td>\n",
       "      <td>4</td>\n",
       "      <td>https://www.amazon.com/product-reviews/B00QWO9...</td>\n",
       "      <td>Bulk is always the less expensive way to go fo...</td>\n",
       "      <td>... always the less expensive way to go for pr...</td>\n",
       "      <td>ByMG</td>\n",
       "      <td>https://www.barcodable.com/upc/841710106442,ht...</td>\n",
       "    </tr>\n",
       "    <tr>\n",
       "      <th>2</th>\n",
       "      <td>AVpgNzjwLJeJML43Kpxn</td>\n",
       "      <td>2015-10-30T08:59:32Z</td>\n",
       "      <td>2019-04-25T09:08:16Z</td>\n",
       "      <td>AmazonBasics AAA Performance Alkaline Batterie...</td>\n",
       "      <td>B00QWO9P0O,B00LH3DMUO</td>\n",
       "      <td>Amazonbasics</td>\n",
       "      <td>AA,AAA,Health,Electronics,Health &amp; Household,C...</td>\n",
       "      <td>Health &amp; Beauty</td>\n",
       "      <td>https://images-na.ssl-images-amazon.com/images...</td>\n",
       "      <td>amazonbasics/hl002619,amazonbasicsaaaperforman...</td>\n",
       "      <td>...</td>\n",
       "      <td>NaN</td>\n",
       "      <td>NaN</td>\n",
       "      <td>NaN</td>\n",
       "      <td>NaN</td>\n",
       "      <td>5</td>\n",
       "      <td>https://www.amazon.com/product-reviews/B00QWO9...</td>\n",
       "      <td>Well they are not Duracell but for the price i...</td>\n",
       "      <td>... are not Duracell but for the price i am ha...</td>\n",
       "      <td>BySharon Lambert</td>\n",
       "      <td>https://www.barcodable.com/upc/841710106442,ht...</td>\n",
       "    </tr>\n",
       "    <tr>\n",
       "      <th>3</th>\n",
       "      <td>AVpgNzjwLJeJML43Kpxn</td>\n",
       "      <td>2015-10-30T08:59:32Z</td>\n",
       "      <td>2019-04-25T09:08:16Z</td>\n",
       "      <td>AmazonBasics AAA Performance Alkaline Batterie...</td>\n",
       "      <td>B00QWO9P0O,B00LH3DMUO</td>\n",
       "      <td>Amazonbasics</td>\n",
       "      <td>AA,AAA,Health,Electronics,Health &amp; Household,C...</td>\n",
       "      <td>Health &amp; Beauty</td>\n",
       "      <td>https://images-na.ssl-images-amazon.com/images...</td>\n",
       "      <td>amazonbasics/hl002619,amazonbasicsaaaperforman...</td>\n",
       "      <td>...</td>\n",
       "      <td>NaN</td>\n",
       "      <td>NaN</td>\n",
       "      <td>NaN</td>\n",
       "      <td>NaN</td>\n",
       "      <td>5</td>\n",
       "      <td>https://www.amazon.com/product-reviews/B00QWO9...</td>\n",
       "      <td>Seem to work as well as name brand batteries a...</td>\n",
       "      <td>... as well as name brand batteries at a much ...</td>\n",
       "      <td>Bymark sexson</td>\n",
       "      <td>https://www.barcodable.com/upc/841710106442,ht...</td>\n",
       "    </tr>\n",
       "    <tr>\n",
       "      <th>4</th>\n",
       "      <td>AVpgNzjwLJeJML43Kpxn</td>\n",
       "      <td>2015-10-30T08:59:32Z</td>\n",
       "      <td>2019-04-25T09:08:16Z</td>\n",
       "      <td>AmazonBasics AAA Performance Alkaline Batterie...</td>\n",
       "      <td>B00QWO9P0O,B00LH3DMUO</td>\n",
       "      <td>Amazonbasics</td>\n",
       "      <td>AA,AAA,Health,Electronics,Health &amp; Household,C...</td>\n",
       "      <td>Health &amp; Beauty</td>\n",
       "      <td>https://images-na.ssl-images-amazon.com/images...</td>\n",
       "      <td>amazonbasics/hl002619,amazonbasicsaaaperforman...</td>\n",
       "      <td>...</td>\n",
       "      <td>NaN</td>\n",
       "      <td>NaN</td>\n",
       "      <td>NaN</td>\n",
       "      <td>NaN</td>\n",
       "      <td>5</td>\n",
       "      <td>https://www.amazon.com/product-reviews/B00QWO9...</td>\n",
       "      <td>These batteries are very long lasting the pric...</td>\n",
       "      <td>... batteries are very long lasting the price ...</td>\n",
       "      <td>Bylinda</td>\n",
       "      <td>https://www.barcodable.com/upc/841710106442,ht...</td>\n",
       "    </tr>\n",
       "  </tbody>\n",
       "</table>\n",
       "<p>5 rows × 24 columns</p>\n",
       "</div>"
      ],
      "text/plain": [
       "                     id             dateAdded           dateUpdated  \\\n",
       "0  AVpgNzjwLJeJML43Kpxn  2015-10-30T08:59:32Z  2019-04-25T09:08:16Z   \n",
       "1  AVpgNzjwLJeJML43Kpxn  2015-10-30T08:59:32Z  2019-04-25T09:08:16Z   \n",
       "2  AVpgNzjwLJeJML43Kpxn  2015-10-30T08:59:32Z  2019-04-25T09:08:16Z   \n",
       "3  AVpgNzjwLJeJML43Kpxn  2015-10-30T08:59:32Z  2019-04-25T09:08:16Z   \n",
       "4  AVpgNzjwLJeJML43Kpxn  2015-10-30T08:59:32Z  2019-04-25T09:08:16Z   \n",
       "\n",
       "                                                name                  asins  \\\n",
       "0  AmazonBasics AAA Performance Alkaline Batterie...  B00QWO9P0O,B00LH3DMUO   \n",
       "1  AmazonBasics AAA Performance Alkaline Batterie...  B00QWO9P0O,B00LH3DMUO   \n",
       "2  AmazonBasics AAA Performance Alkaline Batterie...  B00QWO9P0O,B00LH3DMUO   \n",
       "3  AmazonBasics AAA Performance Alkaline Batterie...  B00QWO9P0O,B00LH3DMUO   \n",
       "4  AmazonBasics AAA Performance Alkaline Batterie...  B00QWO9P0O,B00LH3DMUO   \n",
       "\n",
       "          brand                                         categories  \\\n",
       "0  Amazonbasics  AA,AAA,Health,Electronics,Health & Household,C...   \n",
       "1  Amazonbasics  AA,AAA,Health,Electronics,Health & Household,C...   \n",
       "2  Amazonbasics  AA,AAA,Health,Electronics,Health & Household,C...   \n",
       "3  Amazonbasics  AA,AAA,Health,Electronics,Health & Household,C...   \n",
       "4  Amazonbasics  AA,AAA,Health,Electronics,Health & Household,C...   \n",
       "\n",
       "  primaryCategories                                          imageURLs  \\\n",
       "0   Health & Beauty  https://images-na.ssl-images-amazon.com/images...   \n",
       "1   Health & Beauty  https://images-na.ssl-images-amazon.com/images...   \n",
       "2   Health & Beauty  https://images-na.ssl-images-amazon.com/images...   \n",
       "3   Health & Beauty  https://images-na.ssl-images-amazon.com/images...   \n",
       "4   Health & Beauty  https://images-na.ssl-images-amazon.com/images...   \n",
       "\n",
       "                                                keys  ... reviews.didPurchase  \\\n",
       "0  amazonbasics/hl002619,amazonbasicsaaaperforman...  ...                 NaN   \n",
       "1  amazonbasics/hl002619,amazonbasicsaaaperforman...  ...                 NaN   \n",
       "2  amazonbasics/hl002619,amazonbasicsaaaperforman...  ...                 NaN   \n",
       "3  amazonbasics/hl002619,amazonbasicsaaaperforman...  ...                 NaN   \n",
       "4  amazonbasics/hl002619,amazonbasicsaaaperforman...  ...                 NaN   \n",
       "\n",
       "  reviews.doRecommend reviews.id reviews.numHelpful reviews.rating  \\\n",
       "0                 NaN        NaN                NaN              3   \n",
       "1                 NaN        NaN                NaN              4   \n",
       "2                 NaN        NaN                NaN              5   \n",
       "3                 NaN        NaN                NaN              5   \n",
       "4                 NaN        NaN                NaN              5   \n",
       "\n",
       "                                  reviews.sourceURLs  \\\n",
       "0  https://www.amazon.com/product-reviews/B00QWO9...   \n",
       "1  https://www.amazon.com/product-reviews/B00QWO9...   \n",
       "2  https://www.amazon.com/product-reviews/B00QWO9...   \n",
       "3  https://www.amazon.com/product-reviews/B00QWO9...   \n",
       "4  https://www.amazon.com/product-reviews/B00QWO9...   \n",
       "\n",
       "                                        reviews.text  \\\n",
       "0  I order 3 of them and one of the item is bad q...   \n",
       "1  Bulk is always the less expensive way to go fo...   \n",
       "2  Well they are not Duracell but for the price i...   \n",
       "3  Seem to work as well as name brand batteries a...   \n",
       "4  These batteries are very long lasting the pric...   \n",
       "\n",
       "                                       reviews.title  reviews.username  \\\n",
       "0  ... 3 of them and one of the item is bad quali...        Byger yang   \n",
       "1  ... always the less expensive way to go for pr...              ByMG   \n",
       "2  ... are not Duracell but for the price i am ha...  BySharon Lambert   \n",
       "3  ... as well as name brand batteries at a much ...     Bymark sexson   \n",
       "4  ... batteries are very long lasting the price ...           Bylinda   \n",
       "\n",
       "                                          sourceURLs  \n",
       "0  https://www.barcodable.com/upc/841710106442,ht...  \n",
       "1  https://www.barcodable.com/upc/841710106442,ht...  \n",
       "2  https://www.barcodable.com/upc/841710106442,ht...  \n",
       "3  https://www.barcodable.com/upc/841710106442,ht...  \n",
       "4  https://www.barcodable.com/upc/841710106442,ht...  \n",
       "\n",
       "[5 rows x 24 columns]"
      ]
     },
     "execution_count": 20,
     "metadata": {},
     "output_type": "execute_result"
    }
   ],
   "source": [
    "df.head()"
   ]
  },
  {
   "cell_type": "markdown",
   "metadata": {},
   "source": [
    "### Tokenize"
   ]
  },
  {
   "cell_type": "code",
   "execution_count": 9,
   "metadata": {},
   "outputs": [],
   "source": [
    "import spacy\n",
    "from spacy.tokenizer import Tokenizer\n",
    "\n",
    "nlp = spacy.load(\"en_core_web_lg\")\n",
    "\n",
    "# Tokenizer\n",
    "tokenizer = Tokenizer(nlp.vocab)"
   ]
  },
  {
   "cell_type": "code",
   "execution_count": 21,
   "metadata": {},
   "outputs": [],
   "source": [
    "df['tokens'] = df['reviews.text'].apply(tokenizer)"
   ]
  },
  {
   "cell_type": "code",
   "execution_count": 22,
   "metadata": {},
   "outputs": [
    {
     "data": {
      "text/plain": [
       "0    (I, order, 3, of, them, and, one, of, the, ite...\n",
       "1    (Bulk, is, always, the, less, expensive, way, ...\n",
       "2    (Well, they, are, not, Duracell, but, for, the...\n",
       "3    (Seem, to, work, as, well, as, name, brand, ba...\n",
       "4    (These, batteries, are, very, long, lasting, t...\n",
       "Name: tokens, dtype: object"
      ]
     },
     "execution_count": 22,
     "metadata": {},
     "output_type": "execute_result"
    }
   ],
   "source": [
    "df['tokens'].head()"
   ]
  },
  {
   "cell_type": "code",
   "execution_count": 23,
   "metadata": {},
   "outputs": [],
   "source": [
    "tokens = []\n",
    "\n",
    "\"\"\" Update those tokens w/o stopwords\"\"\"\n",
    "for doc in tokenizer.pipe(df['reviews.text'], batch_size=500):\n",
    "    \n",
    "    doc_tokens = []\n",
    "    \n",
    "    for token in doc:\n",
    "        if (token.is_stop == False) & (token.is_punct == False):\n",
    "            doc_tokens.append(token.text.lower())\n",
    "\n",
    "    tokens.append(doc_tokens)\n",
    "\n",
    "df['tokens'] = tokens"
   ]
  },
  {
   "cell_type": "code",
   "execution_count": 24,
   "metadata": {},
   "outputs": [
    {
     "data": {
      "text/plain": [
       "0    [order, 3, item, bad, quality., missing, backu...\n",
       "1               [bulk, expensive, way, products, like]\n",
       "2                            [duracell, price, happy.]\n",
       "3              [work, brand, batteries, better, price]\n",
       "4            [batteries, long, lasting, price, great.]\n",
       "Name: tokens, dtype: object"
      ]
     },
     "execution_count": 24,
     "metadata": {},
     "output_type": "execute_result"
    }
   ],
   "source": [
    "df['tokens'].head()"
   ]
  },
  {
   "cell_type": "markdown",
   "metadata": {},
   "source": [
    "### Lemmas"
   ]
  },
  {
   "cell_type": "code",
   "execution_count": 25,
   "metadata": {},
   "outputs": [],
   "source": [
    "def get_lemmas(text):\n",
    "\n",
    "    lemmas = []\n",
    "    \n",
    "    doc = nlp(text)\n",
    "    \n",
    "    for token in doc: \n",
    "        if ((token.is_stop == False) and (token.is_punct == False)) and (token.pos_ != 'PRON'):\n",
    "            lemmas.append(token.lemma_)\n",
    "    \n",
    "    return lemmas"
   ]
  },
  {
   "cell_type": "code",
   "execution_count": 27,
   "metadata": {},
   "outputs": [],
   "source": [
    "df['lemmas'] = df['reviews.text'].apply(get_lemmas)"
   ]
  },
  {
   "cell_type": "code",
   "execution_count": 28,
   "metadata": {},
   "outputs": [
    {
     "data": {
      "text/plain": [
       "0    [order, 3, item, bad, quality, miss, backup, s...\n",
       "1                [bulk, expensive, way, product, like]\n",
       "2                             [Duracell, price, happy]\n",
       "3                  [work, brand, battery, well, price]\n",
       "4                  [battery, long, last, price, great]\n",
       "Name: lemmas, dtype: object"
      ]
     },
     "execution_count": 28,
     "metadata": {},
     "output_type": "execute_result"
    }
   ],
   "source": [
    "df['lemmas'].head()"
   ]
  },
  {
   "cell_type": "markdown",
   "metadata": {},
   "source": [
    "### Gensim LDA"
   ]
  },
  {
   "cell_type": "code",
   "execution_count": 29,
   "metadata": {},
   "outputs": [],
   "source": [
    "id2word = corpora.Dictionary(df['lemmas'])"
   ]
  },
  {
   "cell_type": "code",
   "execution_count": 30,
   "metadata": {},
   "outputs": [
    {
     "data": {
      "text/plain": [
       "4"
      ]
     },
     "execution_count": 30,
     "metadata": {},
     "output_type": "execute_result"
    }
   ],
   "source": [
    "id2word.token2id['battery']"
   ]
  },
  {
   "cell_type": "code",
   "execution_count": 31,
   "metadata": {},
   "outputs": [
    {
     "data": {
      "text/plain": [
       "9706"
      ]
     },
     "execution_count": 31,
     "metadata": {},
     "output_type": "execute_result"
    }
   ],
   "source": [
    "len(id2word.keys())"
   ]
  },
  {
   "cell_type": "code",
   "execution_count": 32,
   "metadata": {},
   "outputs": [],
   "source": [
    "corpus = [id2word.doc2bow(text) for text in df['lemmas']]"
   ]
  },
  {
   "cell_type": "code",
   "execution_count": 33,
   "metadata": {},
   "outputs": [],
   "source": [
    "lda = LdaMulticore(corpus=corpus,\n",
    "                   id2word=id2word,\n",
    "                   random_state=723812,\n",
    "                   num_topics = 15,\n",
    "                   passes=10,\n",
    "                   workers=12\n",
    "                  )"
   ]
  },
  {
   "cell_type": "code",
   "execution_count": 34,
   "metadata": {},
   "outputs": [
    {
     "data": {
      "text/plain": [
       "[(0,\n",
       "  '0.066*\"read\" + 0.050*\"book\" + 0.026*\"Kindle\" + 0.026*\"easy\" + 0.022*\"use\" + 0.021*\"love\" + 0.020*\"reader\" + 0.019*\"light\" + 0.017*\"enjoy\" + 0.016*\"screen\"'),\n",
       " (1,\n",
       "  '0.031*\"8\" + 0.027*\"Fire\" + 0.023*\"tablet\" + 0.018*\"great\" + 0.016*\"screen\" + 0.015*\"HD\" + 0.015*\"7\" + 0.011*\"Amazon\" + 0.011*\"new\" + 0.011*\"purchase\"'),\n",
       " (2,\n",
       "  '0.054*\"love\" + 0.036*\"tablet\" + 0.033*\"buy\" + 0.032*\"daughter\" + 0.032*\"use\" + 0.022*\"easy\" + 0.018*\"watch\" + 0.017*\"kid\" + 0.014*\"old\" + 0.014*\"case\"'),\n",
       " (3,\n",
       "  '0.065*\"tablet\" + 0.032*\"great\" + 0.021*\"well\" + 0.019*\"price\" + 0.019*\"good\" + 0.015*\"fire\" + 0.013*\"kindle\" + 0.012*\"recommend\" + 0.012*\"7\" + 0.011*\"keep\"'),\n",
       " (4,\n",
       "  '0.047*\"kid\" + 0.044*\"app\" + 0.038*\"tablet\" + 0.025*\"great\" + 0.021*\"use\" + 0.017*\"like\" + 0.017*\"love\" + 0.015*\"child\" + 0.013*\"year\" + 0.011*\"lot\"'),\n",
       " (5,\n",
       "  '0.047*\"great\" + 0.040*\"tablet\" + 0.021*\"Amazon\" + 0.018*\"use\" + 0.016*\"app\" + 0.014*\"need\" + 0.013*\"price\" + 0.012*\"love\" + 0.011*\"movie\" + 0.010*\"Google\"'),\n",
       " (6,\n",
       "  '0.131*\"love\" + 0.045*\"old\" + 0.041*\"buy\" + 0.039*\"year\" + 0.033*\"Christmas\" + 0.029*\"gift\" + 0.024*\"get\" + 0.023*\"work\" + 0.022*\"great\" + 0.020*\"tablet\"'),\n",
       " (7,\n",
       "  '0.082*\"battery\" + 0.029*\"work\" + 0.019*\"Amazon\" + 0.018*\"buy\" + 0.014*\"good\" + 0.013*\"use\" + 0.011*\"device\" + 0.009*\"cheap\" + 0.009*\"great\" + 0.008*\"brand\"'),\n",
       " (8,\n",
       "  '0.036*\"time\" + 0.036*\"old\" + 0.030*\"Kindle\" + 0.026*\"love\" + 0.025*\"year\" + 0.018*\"charge\" + 0.017*\"buy\" + 0.013*\"grandson\" + 0.010*\"3\" + 0.009*\"set\"'),\n",
       " (9,\n",
       "  '0.091*\"battery\" + 0.047*\"long\" + 0.038*\"brand\" + 0.027*\"great\" + 0.026*\"price\" + 0.020*\"good\" + 0.017*\"buy\" + 0.015*\"like\" + 0.014*\"purchase\" + 0.013*\"time\"'),\n",
       " (10,\n",
       "  '0.052*\"kindle\" + 0.027*\"love\" + 0.027*\"fire\" + 0.021*\"buy\" + 0.019*\"like\" + 0.013*\"old\" + 0.012*\"tablet\" + 0.011*\"great\" + 0.010*\"new\" + 0.010*\"good\"'),\n",
       " (11,\n",
       "  '0.096*\"good\" + 0.078*\"great\" + 0.076*\"price\" + 0.061*\"tablet\" + 0.021*\"nice\" + 0.020*\"product\" + 0.020*\"quality\" + 0.018*\"use\" + 0.015*\"size\" + 0.014*\"value\"'),\n",
       " (12,\n",
       "  '0.041*\"great\" + 0.034*\"work\" + 0.029*\"buy\" + 0.028*\"tablet\" + 0.023*\"Amazon\" + 0.019*\"good\" + 0.014*\"product\" + 0.011*\"time\" + 0.009*\"nice\" + 0.008*\"little\"'),\n",
       " (13,\n",
       "  '0.100*\"easy\" + 0.060*\"use\" + 0.033*\"great\" + 0.022*\"old\" + 0.021*\"tablet\" + 0.020*\"set\" + 0.019*\"year\" + 0.015*\"user\" + 0.015*\"friendly\" + 0.014*\"product\"'),\n",
       " (14,\n",
       "  '0.047*\"tablet\" + 0.037*\"buy\" + 0.031*\"good\" + 0.026*\"great\" + 0.022*\"game\" + 0.018*\"gift\" + 0.017*\"love\" + 0.017*\"get\" + 0.016*\"kid\" + 0.015*\"play\"')]"
      ]
     },
     "execution_count": 34,
     "metadata": {},
     "output_type": "execute_result"
    }
   ],
   "source": [
    "lda.print_topics()"
   ]
  },
  {
   "cell_type": "code",
   "execution_count": 35,
   "metadata": {},
   "outputs": [
    {
     "name": "stdout",
     "output_type": "stream",
     "text": [
      "------ Topic 0 ------\n",
      "read book Kindle easy use\n",
      "\n",
      "------ Topic 1 ------\n",
      "8 Fire tablet great screen\n",
      "\n",
      "------ Topic 2 ------\n",
      "love tablet buy daughter use\n",
      "\n",
      "------ Topic 3 ------\n",
      "tablet great well price good\n",
      "\n",
      "------ Topic 4 ------\n",
      "kid app tablet great use\n",
      "\n",
      "------ Topic 5 ------\n",
      "great tablet Amazon use app\n",
      "\n",
      "------ Topic 6 ------\n",
      "love old buy year Christmas\n",
      "\n",
      "------ Topic 7 ------\n",
      "battery work Amazon buy good\n",
      "\n",
      "------ Topic 8 ------\n",
      "time old Kindle love year\n",
      "\n",
      "------ Topic 9 ------\n",
      "battery long brand great price\n",
      "\n",
      "------ Topic 10 ------\n",
      "kindle love fire buy like\n",
      "\n",
      "------ Topic 11 ------\n",
      "good great price tablet nice\n",
      "\n",
      "------ Topic 12 ------\n",
      "great work buy tablet Amazon\n",
      "\n",
      "------ Topic 13 ------\n",
      "easy use great old tablet\n",
      "\n",
      "------ Topic 14 ------\n",
      "tablet buy good great game\n",
      "\n"
     ]
    }
   ],
   "source": [
    "# Prettier output\n",
    "words = [re.findall(r'\"([^\"]*)\"',t[1]) for t in lda.print_topics()]\n",
    "topics = [' '.join(t[0:5]) for t in words]\n",
    "for id, t in enumerate(topics): \n",
    "    print(f\"------ Topic {id} ------\")\n",
    "    print(t, end=\"\\n\\n\")"
   ]
  },
  {
   "cell_type": "markdown",
   "metadata": {},
   "source": [
    "### Check for best number of topics"
   ]
  },
  {
   "cell_type": "code",
   "execution_count": 38,
   "metadata": {},
   "outputs": [],
   "source": [
    "from gensim.models.coherencemodel import CoherenceModel\n",
    "\n",
    "def compute_coherence_values(dictionary, corpus, limit, start=2, step=3, passes=5):\n",
    "    \"\"\"\n",
    "    Compute c_v coherence for various number of topics\n",
    "\n",
    "    Parameters:\n",
    "    ----------\n",
    "    dictionary : Gensim dictionary\n",
    "    corpus : Gensim corpus\n",
    "    limit : Max num of topics\n",
    "    passes: the number of times the entire lda model & coherence values are calculated\n",
    "\n",
    "    Returns:\n",
    "    -------\n",
    "    coherence_values : Coherence values corresponding to the LDA model with respective number of topics\n",
    "    \"\"\"\n",
    "    \n",
    "    coherence_values = []\n",
    "    num = 1\n",
    "    \n",
    "    for iter_ in range(passes):  # Maybe add a print statement to check the progress as it runs\n",
    "        for num_topics in range(start, limit, step):\n",
    "            model = LdaMulticore(corpus=corpus, num_topics=num_topics, id2word=dictionary, workers=4)\n",
    "            coherencemodel = CoherenceModel(model=model,dictionary=dictionary,corpus=corpus, coherence='u_mass')\n",
    "            coherence_values.append({'pass': iter_, \n",
    "                                     'num_topics': num_topics, \n",
    "                                     'coherence_score': coherencemodel.get_coherence()\n",
    "                                    })\n",
    "        print(f\"pass {num} complete.\")\n",
    "        num += 1\n",
    "\n",
    "    return coherence_values"
   ]
  },
  {
   "cell_type": "code",
   "execution_count": 39,
   "metadata": {},
   "outputs": [
    {
     "name": "stdout",
     "output_type": "stream",
     "text": [
      "2 topics done.\n",
      "4 topics done.\n",
      "6 topics done.\n",
      "8 topics done.\n",
      "10 topics done.\n",
      "12 topics done.\n",
      "14 topics done.\n",
      "16 topics done.\n",
      "18 topics done.\n",
      "20 topics done.\n"
     ]
    }
   ],
   "source": [
    "# Can take a long time to run.\n",
    "coherence_values = compute_coherence_values(dictionary=id2word, \n",
    "                                            corpus=corpus,\n",
    "                                            start=2, \n",
    "                                            limit=40, \n",
    "                                            step=2,\n",
    "                                            passes=10)\n"
   ]
  },
  {
   "cell_type": "code",
   "execution_count": 40,
   "metadata": {},
   "outputs": [],
   "source": [
    "topic_coherence = pd.DataFrame.from_records(coherence_values)"
   ]
  },
  {
   "cell_type": "code",
   "execution_count": 41,
   "metadata": {},
   "outputs": [
    {
     "data": {
      "text/html": [
       "<div>\n",
       "<style scoped>\n",
       "    .dataframe tbody tr th:only-of-type {\n",
       "        vertical-align: middle;\n",
       "    }\n",
       "\n",
       "    .dataframe tbody tr th {\n",
       "        vertical-align: top;\n",
       "    }\n",
       "\n",
       "    .dataframe thead th {\n",
       "        text-align: right;\n",
       "    }\n",
       "</style>\n",
       "<table border=\"1\" class=\"dataframe\">\n",
       "  <thead>\n",
       "    <tr style=\"text-align: right;\">\n",
       "      <th></th>\n",
       "      <th>pass</th>\n",
       "      <th>num_topics</th>\n",
       "      <th>coherence_score</th>\n",
       "    </tr>\n",
       "  </thead>\n",
       "  <tbody>\n",
       "    <tr>\n",
       "      <th>0</th>\n",
       "      <td>0</td>\n",
       "      <td>2</td>\n",
       "      <td>-2.390265</td>\n",
       "    </tr>\n",
       "    <tr>\n",
       "      <th>1</th>\n",
       "      <td>0</td>\n",
       "      <td>4</td>\n",
       "      <td>-2.421310</td>\n",
       "    </tr>\n",
       "    <tr>\n",
       "      <th>2</th>\n",
       "      <td>0</td>\n",
       "      <td>6</td>\n",
       "      <td>-2.374726</td>\n",
       "    </tr>\n",
       "    <tr>\n",
       "      <th>3</th>\n",
       "      <td>0</td>\n",
       "      <td>8</td>\n",
       "      <td>-2.395505</td>\n",
       "    </tr>\n",
       "    <tr>\n",
       "      <th>4</th>\n",
       "      <td>0</td>\n",
       "      <td>10</td>\n",
       "      <td>-2.458958</td>\n",
       "    </tr>\n",
       "  </tbody>\n",
       "</table>\n",
       "</div>"
      ],
      "text/plain": [
       "   pass  num_topics  coherence_score\n",
       "0     0           2        -2.390265\n",
       "1     0           4        -2.421310\n",
       "2     0           6        -2.374726\n",
       "3     0           8        -2.395505\n",
       "4     0          10        -2.458958"
      ]
     },
     "execution_count": 41,
     "metadata": {},
     "output_type": "execute_result"
    }
   ],
   "source": [
    "topic_coherence.head()"
   ]
  },
  {
   "cell_type": "code",
   "execution_count": 42,
   "metadata": {},
   "outputs": [
    {
     "data": {
      "image/png": "[encoded data removed]",
      "text/plain": [
       "<Figure size 432x288 with 1 Axes>"
      ]
     },
     "metadata": {
      "needs_background": "light"
     },
     "output_type": "display_data"
    }
   ],
   "source": [
    "import seaborn as sns\n",
    "\n",
    "ax = sns.lineplot(x=\"num_topics\", y=\"coherence_score\", data=topic_coherence)"
   ]
  },
  {
   "cell_type": "markdown",
   "metadata": {},
   "source": [
    "### From the graph it appears that the number of topics should be 18. ???"
   ]
  },
  {
   "cell_type": "code",
   "execution_count": 46,
   "metadata": {},
   "outputs": [
    {
     "name": "stdout",
     "output_type": "stream",
     "text": [
      "Num Topics = 2  has Coherence Value of -2.3903\n",
      "Num Topics = 4  has Coherence Value of -2.4213\n",
      "Num Topics = 6  has Coherence Value of -2.3747\n",
      "Num Topics = 8  has Coherence Value of -2.3955\n",
      "Num Topics = 10  has Coherence Value of -2.459\n",
      "Num Topics = 12  has Coherence Value of -2.453\n",
      "Num Topics = 14  has Coherence Value of -2.5315\n",
      "Num Topics = 16  has Coherence Value of -2.5162\n",
      "Num Topics = 18  has Coherence Value of -2.4799\n",
      "Num Topics = 20  has Coherence Value of -2.5501\n",
      "Num Topics = 22  has Coherence Value of -2.544\n",
      "Num Topics = 24  has Coherence Value of -2.607\n",
      "Num Topics = 26  has Coherence Value of -2.6142\n",
      "Num Topics = 28  has Coherence Value of -2.6\n",
      "Num Topics = 30  has Coherence Value of -2.6146\n",
      "Num Topics = 32  has Coherence Value of -2.6161\n",
      "Num Topics = 34  has Coherence Value of -2.6742\n",
      "Num Topics = 36  has Coherence Value of -2.6248\n",
      "Num Topics = 38  has Coherence Value of -2.792\n",
      "Num Topics = 2  has Coherence Value of -2.2764\n",
      "Num Topics = 4  has Coherence Value of -2.3816\n",
      "Num Topics = 6  has Coherence Value of -2.4198\n",
      "Num Topics = 8  has Coherence Value of -2.4009\n",
      "Num Topics = 10  has Coherence Value of -2.417\n",
      "Num Topics = 12  has Coherence Value of -2.4717\n",
      "Num Topics = 14  has Coherence Value of -2.5454\n",
      "Num Topics = 16  has Coherence Value of -2.5207\n",
      "Num Topics = 18  has Coherence Value of -2.4911\n",
      "Num Topics = 20  has Coherence Value of -2.5695\n",
      "Num Topics = 22  has Coherence Value of -2.5809\n",
      "Num Topics = 24  has Coherence Value of -2.5771\n",
      "Num Topics = 26  has Coherence Value of -2.5971\n",
      "Num Topics = 28  has Coherence Value of -2.5498\n",
      "Num Topics = 30  has Coherence Value of -2.5951\n",
      "Num Topics = 32  has Coherence Value of -2.6438\n",
      "Num Topics = 34  has Coherence Value of -2.5268\n",
      "Num Topics = 36  has Coherence Value of -2.5888\n",
      "Num Topics = 38  has Coherence Value of -2.739\n",
      "Num Topics = 2  has Coherence Value of -2.2244\n",
      "Num Topics = 4  has Coherence Value of -2.3265\n",
      "Num Topics = 6  has Coherence Value of -2.4405\n",
      "Num Topics = 8  has Coherence Value of -2.3873\n",
      "Num Topics = 10  has Coherence Value of -2.4663\n",
      "Num Topics = 12  has Coherence Value of -2.463\n",
      "Num Topics = 14  has Coherence Value of -2.4971\n",
      "Num Topics = 16  has Coherence Value of -2.4846\n",
      "Num Topics = 18  has Coherence Value of -2.5556\n",
      "Num Topics = 20  has Coherence Value of -2.5796\n",
      "Num Topics = 22  has Coherence Value of -2.6312\n",
      "Num Topics = 24  has Coherence Value of -2.5268\n",
      "Num Topics = 26  has Coherence Value of -2.64\n",
      "Num Topics = 28  has Coherence Value of -2.6159\n",
      "Num Topics = 30  has Coherence Value of -2.793\n",
      "Num Topics = 32  has Coherence Value of -2.6173\n",
      "Num Topics = 34  has Coherence Value of -2.6033\n",
      "Num Topics = 36  has Coherence Value of -2.6882\n",
      "Num Topics = 38  has Coherence Value of -2.703\n",
      "Num Topics = 2  has Coherence Value of -2.2854\n",
      "Num Topics = 4  has Coherence Value of -2.4091\n",
      "Num Topics = 6  has Coherence Value of -2.3546\n",
      "Num Topics = 8  has Coherence Value of -2.4618\n",
      "Num Topics = 10  has Coherence Value of -2.4328\n",
      "Num Topics = 12  has Coherence Value of -2.5583\n",
      "Num Topics = 14  has Coherence Value of -2.6667\n",
      "Num Topics = 16  has Coherence Value of -2.5229\n",
      "Num Topics = 18  has Coherence Value of -2.5267\n",
      "Num Topics = 20  has Coherence Value of -2.5718\n",
      "Num Topics = 22  has Coherence Value of -2.6533\n",
      "Num Topics = 24  has Coherence Value of -2.5789\n",
      "Num Topics = 26  has Coherence Value of -2.6096\n",
      "Num Topics = 28  has Coherence Value of -2.591\n",
      "Num Topics = 30  has Coherence Value of -2.6365\n",
      "Num Topics = 32  has Coherence Value of -2.6417\n",
      "Num Topics = 34  has Coherence Value of -2.742\n",
      "Num Topics = 36  has Coherence Value of -2.7033\n",
      "Num Topics = 38  has Coherence Value of -2.6967\n",
      "Num Topics = 2  has Coherence Value of -2.3472\n",
      "Num Topics = 4  has Coherence Value of -2.3433\n",
      "Num Topics = 6  has Coherence Value of -2.3767\n",
      "Num Topics = 8  has Coherence Value of -2.5198\n",
      "Num Topics = 10  has Coherence Value of -2.4732\n",
      "Num Topics = 12  has Coherence Value of -2.4427\n",
      "Num Topics = 14  has Coherence Value of -2.4639\n",
      "Num Topics = 16  has Coherence Value of -2.4729\n",
      "Num Topics = 18  has Coherence Value of -2.637\n",
      "Num Topics = 20  has Coherence Value of -2.6486\n",
      "Num Topics = 22  has Coherence Value of -2.5894\n",
      "Num Topics = 24  has Coherence Value of -2.6437\n",
      "Num Topics = 26  has Coherence Value of -2.649\n",
      "Num Topics = 28  has Coherence Value of -2.656\n",
      "Num Topics = 30  has Coherence Value of -2.6786\n",
      "Num Topics = 32  has Coherence Value of -2.7335\n",
      "Num Topics = 34  has Coherence Value of -2.6487\n",
      "Num Topics = 36  has Coherence Value of -2.643\n",
      "Num Topics = 38  has Coherence Value of -2.7801\n",
      "Num Topics = 2  has Coherence Value of -2.2765\n",
      "Num Topics = 4  has Coherence Value of -2.4071\n",
      "Num Topics = 6  has Coherence Value of -2.3636\n",
      "Num Topics = 8  has Coherence Value of -2.3358\n",
      "Num Topics = 10  has Coherence Value of -2.4446\n",
      "Num Topics = 12  has Coherence Value of -2.4666\n",
      "Num Topics = 14  has Coherence Value of -2.5803\n",
      "Num Topics = 16  has Coherence Value of -2.6024\n",
      "Num Topics = 18  has Coherence Value of -2.4964\n",
      "Num Topics = 20  has Coherence Value of -2.576\n",
      "Num Topics = 22  has Coherence Value of -2.5734\n",
      "Num Topics = 24  has Coherence Value of -2.5315\n",
      "Num Topics = 26  has Coherence Value of -2.5901\n",
      "Num Topics = 28  has Coherence Value of -2.7058\n",
      "Num Topics = 30  has Coherence Value of -2.6268\n",
      "Num Topics = 32  has Coherence Value of -2.6549\n",
      "Num Topics = 34  has Coherence Value of -2.5471\n",
      "Num Topics = 36  has Coherence Value of -2.6978\n",
      "Num Topics = 38  has Coherence Value of -2.6696\n",
      "Num Topics = 2  has Coherence Value of -2.2922\n",
      "Num Topics = 4  has Coherence Value of -2.3692\n",
      "Num Topics = 6  has Coherence Value of -2.3782\n",
      "Num Topics = 8  has Coherence Value of -2.4023\n",
      "Num Topics = 10  has Coherence Value of -2.4081\n",
      "Num Topics = 12  has Coherence Value of -2.5242\n",
      "Num Topics = 14  has Coherence Value of -2.4944\n",
      "Num Topics = 16  has Coherence Value of -2.5288\n",
      "Num Topics = 18  has Coherence Value of -2.5957\n",
      "Num Topics = 20  has Coherence Value of -2.6334\n",
      "Num Topics = 22  has Coherence Value of -2.5626\n",
      "Num Topics = 24  has Coherence Value of -2.5541\n",
      "Num Topics = 26  has Coherence Value of -2.6275\n",
      "Num Topics = 28  has Coherence Value of -2.7111\n",
      "Num Topics = 30  has Coherence Value of -2.5469\n",
      "Num Topics = 32  has Coherence Value of -2.644\n",
      "Num Topics = 34  has Coherence Value of -2.6131\n",
      "Num Topics = 36  has Coherence Value of -2.635\n",
      "Num Topics = 38  has Coherence Value of -2.7548\n",
      "Num Topics = 2  has Coherence Value of -2.3076\n",
      "Num Topics = 4  has Coherence Value of -2.3475\n",
      "Num Topics = 6  has Coherence Value of -2.4109\n",
      "Num Topics = 8  has Coherence Value of -2.3761\n",
      "Num Topics = 10  has Coherence Value of -2.4055\n",
      "Num Topics = 12  has Coherence Value of -2.4062\n",
      "Num Topics = 14  has Coherence Value of -2.4646\n",
      "Num Topics = 16  has Coherence Value of -2.5919\n",
      "Num Topics = 18  has Coherence Value of -2.4995\n",
      "Num Topics = 20  has Coherence Value of -2.5834\n",
      "Num Topics = 22  has Coherence Value of -2.6173\n",
      "Num Topics = 24  has Coherence Value of -2.6092\n",
      "Num Topics = 26  has Coherence Value of -2.616\n",
      "Num Topics = 28  has Coherence Value of -2.5567\n",
      "Num Topics = 30  has Coherence Value of -2.8663\n",
      "Num Topics = 32  has Coherence Value of -2.6014\n",
      "Num Topics = 34  has Coherence Value of -2.6723\n",
      "Num Topics = 36  has Coherence Value of -2.7086\n",
      "Num Topics = 38  has Coherence Value of -2.7857\n",
      "Num Topics = 2  has Coherence Value of -2.3099\n",
      "Num Topics = 4  has Coherence Value of -2.2877\n",
      "Num Topics = 6  has Coherence Value of -2.3678\n",
      "Num Topics = 8  has Coherence Value of -2.529\n",
      "Num Topics = 10  has Coherence Value of -2.4426\n",
      "Num Topics = 12  has Coherence Value of -2.4501\n",
      "Num Topics = 14  has Coherence Value of -2.5153\n",
      "Num Topics = 16  has Coherence Value of -2.5762\n",
      "Num Topics = 18  has Coherence Value of -2.5663\n",
      "Num Topics = 20  has Coherence Value of -2.5997\n",
      "Num Topics = 22  has Coherence Value of -2.58\n",
      "Num Topics = 24  has Coherence Value of -2.5611\n",
      "Num Topics = 26  has Coherence Value of -2.6295\n",
      "Num Topics = 28  has Coherence Value of -2.6158\n",
      "Num Topics = 30  has Coherence Value of -2.6624\n",
      "Num Topics = 32  has Coherence Value of -2.8979\n",
      "Num Topics = 34  has Coherence Value of -2.7949\n",
      "Num Topics = 36  has Coherence Value of -2.952\n",
      "Num Topics = 38  has Coherence Value of -2.7935\n",
      "Num Topics = 2  has Coherence Value of -2.3139\n",
      "Num Topics = 4  has Coherence Value of -2.418\n",
      "Num Topics = 6  has Coherence Value of -2.3881\n",
      "Num Topics = 8  has Coherence Value of -2.3536\n",
      "Num Topics = 10  has Coherence Value of -2.4413\n",
      "Num Topics = 12  has Coherence Value of -2.3986\n",
      "Num Topics = 14  has Coherence Value of -2.5396\n",
      "Num Topics = 16  has Coherence Value of -2.7517\n",
      "Num Topics = 18  has Coherence Value of -2.4948\n",
      "Num Topics = 20  has Coherence Value of -2.6137\n",
      "Num Topics = 22  has Coherence Value of -2.492\n",
      "Num Topics = 24  has Coherence Value of -2.6647\n",
      "Num Topics = 26  has Coherence Value of -2.5384\n",
      "Num Topics = 28  has Coherence Value of -2.6107\n",
      "Num Topics = 30  has Coherence Value of -2.5657\n",
      "Num Topics = 32  has Coherence Value of -2.741\n",
      "Num Topics = 34  has Coherence Value of -2.7915\n",
      "Num Topics = 36  has Coherence Value of -2.6438\n",
      "Num Topics = 38  has Coherence Value of -2.8659\n"
     ]
    }
   ],
   "source": [
    "# Print the coherence scores\n",
    "for m, cv in zip(topic_coherence[\"num_topics\"], topic_coherence['coherence_score']):\n",
    "    print(\"Num Topics =\", m, \" has Coherence Value of\", round(cv, 4))"
   ]
  },
  {
   "cell_type": "code",
   "execution_count": null,
   "metadata": {},
   "outputs": [],
   "source": []
  },
  {
   "cell_type": "markdown",
   "metadata": {},
   "source": [
    "## Stretch Goals\n",
    "\n",
    "* Incorporate Named Entity Recognition in your analysis\n",
    "* Incorporate some custom pre-processing from our previous lessons (like spacy lemmatization)\n",
    "* Analyze a dataset of interest to you with topic modeling"
   ]
  }
 ],
 "metadata": {
  "kernelspec": {
   "display_name": "U4-S1-NLP (Python3)",
   "language": "python",
   "name": "u4-s1-nlp"
  },
  "language_info": {
   "codemirror_mode": {
    "name": "ipython",
    "version": 3
   },
   "file_extension": ".py",
   "mimetype": "text/x-python",
   "name": "python",
   "nbconvert_exporter": "python",
   "pygments_lexer": "ipython3",
   "version": "3.7.0"
  }
 },
 "nbformat": 4,
 "nbformat_minor": 4
}
