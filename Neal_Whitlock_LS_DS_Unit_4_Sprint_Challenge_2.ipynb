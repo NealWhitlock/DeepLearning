{
 "cells": [
  {
   "cell_type": "markdown",
   "metadata": {},
   "source": [
    "<img align=\"left\" src=\"https://lever-client-logos.s3.amazonaws.com/864372b1-534c-480e-acd5-9711f850815c-1524247202159.png\" width=200>\n",
    "<br></br>\n",
    "<br></br>\n",
    "\n",
    "## *Data Science Unit 4 Sprint 2*\n",
    "\n",
    "# Sprint Challenge - Neural Network Foundations\n",
    "\n",
    "Table of Problems\n",
    "\n",
    "1. [Defining Neural Networks](#Q1)\n",
    "2. [Simple Perceptron](#Q2)\n",
    "    - Perceptron\n",
    "    - Multilayer Perceptron\n",
    "    - Analyze and Compare\n",
    "4. [Keras MMP](#Q3)"
   ]
  },
  {
   "cell_type": "markdown",
   "metadata": {},
   "source": [
    "<a id=\"Q1\"></a>\n",
    "## 1. Defining Neural Networks \n",
    "\n",
    "Write *your own* definitions for the following terms:\n",
    "\n",
    "- **Neuron:** A neuron is a node where data is processed. As a neural network trains a neuron retains a specific formula or search parameter that the data is passed through. An example of this would be in an image recognition neural network a specific neuron is tasked with looking at a specific region of the image for some kind of information, be it a color or contrast or if the pixels are even used or whatnot. That information is then passed on to the next layer.\n",
    "- **Input Layer:** The input layer is where the data is initially entered into the neural network. The size of this layer depends upon how much information is being used. In the above example of a neuron for image processing, the input layer would need an entry for each pixel of the image being processed. \n",
    "- **Hidden Layer:** Hidden layers are the underlying layers of a neural network where the work is actully done. These layers are filled with a certain number of neurons the process the data and pass it to the next layer. An ideal way to think about this process, but not always (or maybe even often) the case in the real world, would be that one layer looks for information in a specific region of an image. Another layer then looks for shapes based on the information passed to it.\n",
    "- **Output Layer:** The output layer is where a decision is made and reported. For the image processing example I've been using, let's say we wanted to check for specific digits in images. There are 10 digits to choose from. Based on the work done by the hidden layers information is passed to the output layer which then assigns probabilities to each of the possible digits. As the network runs and is trained hopefully this prediction gets narrowed down to reporting mostly only a single digit.\n",
    "- **Activation Function:** The activation function choice in a given layer of the neural network is what determines whether each neuron passes on information to the next layer or not. Back to the image processing example.... One given neuron might look for pixels being used in the top left corner of the image. If there aren't any then the activation function doesn't, well, activate; the neuron doesn't pass any information. Another neuron looking for pixels in the image finds some and the activation function has the neuron determine a value, perhaps the percentage of used pixels in its region, which then gets passed to the next layer."
   ]
  },
  {
   "cell_type": "markdown",
   "metadata": {},
   "source": [
    "#### Explain how back propagation works as if you were explaining it to a five year-old. Use your own words, but feel free to reference external materials for this question. "
   ]
  },
  {
   "cell_type": "markdown",
   "metadata": {},
   "source": [
    "Back propagation is a means of checking the neural network process for error and passing that error back through the network to make corrections in hopes of making the network work better by fixing where the worst problems are occuring. Here's a simple, relatable example for a five year-old, though not perfect in comparison.\n",
    "\n",
    "We're building an awesome track for us to send Hot Wheels cars down. First, we lay out the track where we want it to go with all the funs things involved with that. We know where we want it to end up so we have an idea of what should happen. So, we let a car run down the track but it doesn't end up where we expect. We walk along the track to find where the car ended up and see that the track wasn't connected there. This is our loss function identifying the problem and now we fix that by connecting the track. We pick up the car and let it run again but it still doesn't get where we thought it would. We walk along the track, find the problem (a twisted track this time), fix it, and then run the car again. We keep doing this and each time we fix the problem and the track runs the car better until we get what we needed: a fun time and the car at the end of the track. Us fixing the track each time where it's not working based on our analysis as we walked along it is back-propagation."
   ]
  },
  {
   "cell_type": "markdown",
   "metadata": {},
   "source": [
    "#### Remember our Simple Perceptron Class from Monday. In a simple prediction describe the process of making a prediction. How do you go from inputs to predicted output."
   ]
  },
  {
   "cell_type": "markdown",
   "metadata": {},
   "source": [
    "A simple (single layer) perceptron has no hidden layers. This means that there can't be any work done to help narrow results before passing information to the output layer and making a prediction. In this case, the information is presented in the input layer and passed directly to the output layer. Ok, how would this work? Imagine a set of data scattered about between two classes, say reds and blues. Our simple perceptron takes in this data and tries to draw a straight line that best separates the two classes; it can move the y-intercept of the line up and down and it can change the slope all it wants. Depending on how the two classes are separated this might work great. But if there is a mix of reds and blues or they are clustered in more than two clustered it might not work out well. If we could add more layers to the perceptron and get a robust neural network then we could better handle the mixing and clustering. But the simple perceptron from Monday can't."
   ]
  },
  {
   "cell_type": "markdown",
   "metadata": {},
   "source": [
    "<a id=\"Q2\"></a>\n",
    "## 2. Simple Perceptron\n",
    "\n",
    "In this question, you will build two neural networks using Tensorflow Keras. After you build these two models, compare the results of the model."
   ]
  },
  {
   "cell_type": "code",
   "execution_count": 1,
   "metadata": {},
   "outputs": [],
   "source": [
    "import numpy as np\n",
    "from tensorflow.keras.models import Sequential\n",
    "from tensorflow.keras.layers import Dense"
   ]
  },
  {
   "cell_type": "code",
   "execution_count": 2,
   "metadata": {},
   "outputs": [],
   "source": [
    "\"\"\"\n",
    "Our Dataset\n",
    "\"\"\"\n",
    "import numpy as np\n",
    "\n",
    "xx, yy = np.meshgrid(np.linspace(-3, 3, 50),\n",
    "                     np.linspace(-3, 3, 50))\n",
    "rng = np.random.RandomState(0)\n",
    "\n",
    "\"Use this X & y in the following 2 models\"\n",
    "X = rng.randn(300, 2)\n",
    "y = np.array(np.logical_xor(X[:, 0] > 0, X[:, 1] > 0), \n",
    "             dtype=int)"
   ]
  },
  {
   "cell_type": "code",
   "execution_count": 3,
   "metadata": {},
   "outputs": [
    {
     "data": {
      "text/plain": [
       "((300, 2), (300,))"
      ]
     },
     "execution_count": 3,
     "metadata": {},
     "output_type": "execute_result"
    }
   ],
   "source": [
    "X.shape, y.shape"
   ]
  },
  {
   "cell_type": "markdown",
   "metadata": {},
   "source": [
    "### Simple Perceptron\n",
    "Construct a simple perceptron using Keras. You model should have 1 dense layer with a single neuron and a sigmoid activation function. Your model should be called `model1` and make sure to save the results of your fit statement to a variable called `h1`. "
   ]
  },
  {
   "cell_type": "code",
   "execution_count": 4,
   "metadata": {},
   "outputs": [
    {
     "name": "stdout",
     "output_type": "stream",
     "text": [
      "Train on 300 samples\n",
      "Epoch 1/10\n",
      "300/300 [==============================] - 0s 735us/sample - loss: 0.6967 - accuracy: 0.4733\n",
      "Epoch 2/10\n",
      "300/300 [==============================] - 0s 69us/sample - loss: 0.6962 - accuracy: 0.4733\n",
      "Epoch 3/10\n",
      "300/300 [==============================] - 0s 33us/sample - loss: 0.6959 - accuracy: 0.4733\n",
      "Epoch 4/10\n",
      "300/300 [==============================] - 0s 30us/sample - loss: 0.6956 - accuracy: 0.4733\n",
      "Epoch 5/10\n",
      "300/300 [==============================] - 0s 37us/sample - loss: 0.6953 - accuracy: 0.4733\n",
      "Epoch 6/10\n",
      "300/300 [==============================] - 0s 37us/sample - loss: 0.6951 - accuracy: 0.4667\n",
      "Epoch 7/10\n",
      "300/300 [==============================] - 0s 30us/sample - loss: 0.6948 - accuracy: 0.4467\n",
      "Epoch 8/10\n",
      "300/300 [==============================] - 0s 34us/sample - loss: 0.6946 - accuracy: 0.4367\n",
      "Epoch 9/10\n",
      "300/300 [==============================] - 0s 0s/sample - loss: 0.6945 - accuracy: 0.4333\n",
      "Epoch 10/10\n",
      "300/300 [==============================] - 0s 73us/sample - loss: 0.6943 - accuracy: 0.3967\n"
     ]
    }
   ],
   "source": [
    "# Create the model\n",
    "model1 = Sequential()\n",
    "model1.add(Dense(1, input_dim=2, activation='sigmoid'))\n",
    "model1.add(Dense(1, activation='sigmoid'))\n",
    "\n",
    "# Compile the Model\n",
    "model1.compile(loss='binary_crossentropy', optimizer='adam', metrics=['accuracy'])\n",
    "\n",
    "# Fit the model\n",
    "h1 = model1.fit(X, y, epochs=10)"
   ]
  },
  {
   "cell_type": "markdown",
   "metadata": {},
   "source": [
    "### Multi-Layer Perceptron\n",
    "Now construct a multi-layer perceptron using. Here are some architecture suggestions: \n",
    "- 2 Hidden Layers\n",
    "- 5-32 Neurons in the Hidden Layers\n",
    "- Your pick of activation function and optimizer\n",
    "- Incorporate the Callback function below into your model\n",
    "\n",
    "Your model should be called `model2` and make sure to save the results of your fit statement to a variable called `h2`. "
   ]
  },
  {
   "cell_type": "code",
   "execution_count": 5,
   "metadata": {},
   "outputs": [],
   "source": [
    "import tensorflow as tf\n",
    "\n",
    "class myCallback(tf.keras.callbacks.Callback): \n",
    "    def on_epoch_end(self, epoch, logs={}): \n",
    "        if(logs.get('accuracy') > .99999):   \n",
    "            self.model.stop_training = True"
   ]
  },
  {
   "cell_type": "code",
   "execution_count": 9,
   "metadata": {},
   "outputs": [
    {
     "name": "stdout",
     "output_type": "stream",
     "text": [
      "Train on 300 samples\n",
      "Epoch 1/10\n",
      "300/300 [==============================] - 0s 736us/sample - loss: 0.7425 - accuracy: 0.3500\n",
      "Epoch 2/10\n",
      "300/300 [==============================] - 0s 43us/sample - loss: 0.7160 - accuracy: 0.4733\n",
      "Epoch 3/10\n",
      "300/300 [==============================] - 0s 40us/sample - loss: 0.6915 - accuracy: 0.5833\n",
      "Epoch 4/10\n",
      "300/300 [==============================] - 0s 34us/sample - loss: 0.6677 - accuracy: 0.6967\n",
      "Epoch 5/10\n",
      "300/300 [==============================] - 0s 0s/sample - loss: 0.6466 - accuracy: 0.7333\n",
      "Epoch 6/10\n",
      "300/300 [==============================] - 0s 72us/sample - loss: 0.6267 - accuracy: 0.7367\n",
      "Epoch 7/10\n",
      "300/300 [==============================] - 0s 33us/sample - loss: 0.6073 - accuracy: 0.7600\n",
      "Epoch 8/10\n",
      "300/300 [==============================] - 0s 38us/sample - loss: 0.5878 - accuracy: 0.7967\n",
      "Epoch 9/10\n",
      "300/300 [==============================] - 0s 38us/sample - loss: 0.5682 - accuracy: 0.8167\n",
      "Epoch 10/10\n",
      "300/300 [==============================] - 0s 37us/sample - loss: 0.5483 - accuracy: 0.8200\n"
     ]
    }
   ],
   "source": [
    "# Create the model\n",
    "model2 = Sequential()\n",
    "model2.add(Dense(24, input_dim=2, activation='relu'))\n",
    "model2.add(Dense(24, activation='relu'))\n",
    "model2.add(Dense(1, activation='sigmoid'))\n",
    "\n",
    "# Compile the Model\n",
    "model2.compile(loss='binary_crossentropy', optimizer='adam', metrics=['accuracy'])\n",
    "\n",
    "# Fit the model\n",
    "h2 = model2.fit(X, y, epochs=10, callbacks=[myCallback()])"
   ]
  },
  {
   "cell_type": "markdown",
   "metadata": {},
   "source": [
    "### Analyze and Compare\n",
    "\n",
    "**Before you Start**: You will need to install an additional library for this next segment. Install the package `mlxtend` into the environment you are using for the sprint challenge.\n",
    "\n",
    "\n",
    "The cells below generate decision boundary plots of your models (`model1` & `model2`). Review the plots."
   ]
  },
  {
   "cell_type": "code",
   "execution_count": 10,
   "metadata": {},
   "outputs": [
    {
     "name": "stdout",
     "output_type": "stream",
     "text": [
      "Collecting mlxtend\n",
      "  Downloading https://files.pythonhosted.org/packages/64/e2/1610a86284029abcad0ac9bc86cb19f9787fe6448ede467188b2a5121bb4/mlxtend-0.17.2-py2.py3-none-any.whl (1.3MB)\n",
      "Requirement already satisfied: matplotlib>=3.0.0 in c:\\users\\neal\\anaconda3\\lib\\site-packages (from mlxtend) (3.1.1)\n",
      "Requirement already satisfied: setuptools in c:\\users\\neal\\anaconda3\\lib\\site-packages (from mlxtend) (41.4.0)\n",
      "Requirement already satisfied: scikit-learn>=0.20.3 in c:\\users\\neal\\anaconda3\\lib\\site-packages (from mlxtend) (0.21.3)\n",
      "Requirement already satisfied: pandas>=0.24.2 in c:\\users\\neal\\anaconda3\\lib\\site-packages (from mlxtend) (0.25.1)\n",
      "Requirement already satisfied: scipy>=1.2.1 in c:\\users\\neal\\anaconda3\\lib\\site-packages (from mlxtend) (1.4.1)\n",
      "Requirement already satisfied: joblib>=0.13.2 in c:\\users\\neal\\anaconda3\\lib\\site-packages (from mlxtend) (0.13.2)\n",
      "Requirement already satisfied: numpy>=1.16.2 in c:\\users\\neal\\anaconda3\\lib\\site-packages (from mlxtend) (1.16.5)\n",
      "Requirement already satisfied: cycler>=0.10 in c:\\users\\neal\\anaconda3\\lib\\site-packages (from matplotlib>=3.0.0->mlxtend) (0.10.0)\n",
      "Requirement already satisfied: kiwisolver>=1.0.1 in c:\\users\\neal\\anaconda3\\lib\\site-packages (from matplotlib>=3.0.0->mlxtend) (1.1.0)\n",
      "Requirement already satisfied: pyparsing!=2.0.4,!=2.1.2,!=2.1.6,>=2.0.1 in c:\\users\\neal\\anaconda3\\lib\\site-packages (from matplotlib>=3.0.0->mlxtend) (2.4.2)\n",
      "Requirement already satisfied: python-dateutil>=2.1 in c:\\users\\neal\\anaconda3\\lib\\site-packages (from matplotlib>=3.0.0->mlxtend) (2.8.0)\n",
      "Requirement already satisfied: pytz>=2017.2 in c:\\users\\neal\\anaconda3\\lib\\site-packages (from pandas>=0.24.2->mlxtend) (2019.3)\n",
      "Requirement already satisfied: six in c:\\users\\neal\\appdata\\roaming\\python\\python37\\site-packages (from cycler>=0.10->matplotlib>=3.0.0->mlxtend) (1.12.0)\n",
      "Installing collected packages: mlxtend\n",
      "Successfully installed mlxtend-0.17.2\n"
     ]
    }
   ],
   "source": [
    "! pip install --user mlxtend"
   ]
  },
  {
   "cell_type": "code",
   "execution_count": 11,
   "metadata": {},
   "outputs": [
    {
     "name": "stderr",
     "output_type": "stream",
     "text": [
      "C:\\Users\\Neal\\AppData\\Roaming\\Python\\Python37\\site-packages\\mlxtend\\plotting\\decision_regions.py:249: MatplotlibDeprecationWarning: Passing unsupported keyword arguments to axis() will raise a TypeError in 3.3.\n",
      "  ax.axis(xmin=xx.min(), xmax=xx.max(), y_min=yy.min(), y_max=yy.max())\n"
     ]
    },
    {
     "data": {
      "image/png": "[encoded data removed]",
      "text/plain": [
       "<Figure size 864x432 with 2 Axes>"
      ]
     },
     "metadata": {
      "needs_background": "light"
     },
     "output_type": "display_data"
    }
   ],
   "source": [
    "# Do Not change anything in this cell\n",
    "\n",
    "import matplotlib.pyplot as plt\n",
    "from mlxtend.plotting import plot_decision_regions\n",
    "\n",
    "h = .02  # step size in the mesh\n",
    "\n",
    "# create a mesh to plot in\n",
    "x_min, x_max = X[:, 0].min() - .2, X[:, 0].max() + .2\n",
    "y_min, y_max = X[:, 1].min() - .2, X[:, 1].max() + .2\n",
    "xx, yy = np.meshgrid(np.arange(x_min, x_max, h),\n",
    "                     np.arange(y_min, y_max, h))\n",
    "\n",
    "fig = plt.figure(figsize=(12,6))\n",
    "\n",
    "\n",
    "for clf, hist, name, grd in zip([model1,model2], [h1, h2],['Perceptron', 'Multi-Layer Perceptron'],[1,2]):\n",
    "\n",
    "    ax = plt.subplot(1,2, grd)\n",
    "    fig = plot_decision_regions(X=X, y=y, clf=clf, legend=2)\n",
    "    title = f\"{name} with {hist.history['accuracy'][-1]:,.2f} Accuracy\"\n",
    "    plt.title(title)\n",
    "\n",
    "plt.show()"
   ]
  },
  {
   "cell_type": "markdown",
   "metadata": {},
   "source": [
    "Why does the Perceptron (`model1`) only achieve ~70% accuracy? What is the architectural property of the Multi-Layer Perceptron that allows it more accurately learn the relationship between X and y? \n",
    "\n",
    "Why might this property be useful in more complex data such as images?"
   ]
  },
  {
   "cell_type": "markdown",
   "metadata": {},
   "source": [
    "-----------------------------\n",
    "Model 1 getting ~70% accuracy??? Mine is WAY below that and I'd be amazed if someone did get close to that. I'm assuming that is a type for the specific reason that model1 can only create a single line to divide the two different classes of data. In the plots above, model1 is trying to separate the squares from the triangles with ONE line. But that's not possible so it tries to do the best it can. In my case, since I didn't train it enough it actually got a little worse as it ran. But for model2, the multiple hidden layers allow the model to think in more terms than just one line which allows it to actually look at clusters. Since the dataset i clearly clustered it does a decent job. If I let it train a bit more (increase the epochs) or used a better model (add layers) it would likely do even better. \n",
    "\n",
    "This idea of adding layers is useful for the reasons I've already stated above in my definitions and implied here: each layer can work on a task to pass to the next layer that refines the data. If you don't have layers to do this then it's just a best of fitting a line and not everything (and especially not images) can be expressed in linear regression. You need layers to look for patterns and shapes and then to put those patterns and shapes together before finally saying, \"Hey! I'm pretty sure that's a dog.\""
   ]
  },
  {
   "cell_type": "markdown",
   "metadata": {},
   "source": [
    "## 3. Keras MMP <a id=\"Q3\"></a>\n",
    "\n",
    "Implement a Multilayer Perceptron architecture of your choosing using the Keras library. Train your model and report its baseline accuracy. Then hyperparameter tune at least two parameters and report your model's accuracy.\n",
    "Use the Heart Disease Dataset (binary classification)\n",
    "Use an appropriate loss function for a binary classification task\n",
    "Use an appropriate activation function on the final layer of your network.\n",
    "Train your model using verbose output for ease of grading.\n",
    "Use GridSearchCV or RandomSearchCV to hyperparameter tune your model. (for at least two hyperparameters)\n",
    "When hyperparameter tuning, show you work by adding code cells for each new experiment.\n",
    "Report the accuracy for each combination of hyperparameters as you test them so that we can easily see which resulted in the highest accuracy.\n",
    "You must hyperparameter tune at least 3 parameters in order to get a 3 on this section."
   ]
  },
  {
   "cell_type": "code",
   "execution_count": 12,
   "metadata": {
    "collapsed": false,
    "inputHidden": false,
    "jupyter": {
     "outputs_hidden": false
    },
    "outputHidden": false
   },
   "outputs": [
    {
     "name": "stdout",
     "output_type": "stream",
     "text": [
      "(303, 14)\n"
     ]
    },
    {
     "data": {
      "text/html": [
       "<div>\n",
       "<style scoped>\n",
       "    .dataframe tbody tr th:only-of-type {\n",
       "        vertical-align: middle;\n",
       "    }\n",
       "\n",
       "    .dataframe tbody tr th {\n",
       "        vertical-align: top;\n",
       "    }\n",
       "\n",
       "    .dataframe thead th {\n",
       "        text-align: right;\n",
       "    }\n",
       "</style>\n",
       "<table border=\"1\" class=\"dataframe\">\n",
       "  <thead>\n",
       "    <tr style=\"text-align: right;\">\n",
       "      <th></th>\n",
       "      <th>age</th>\n",
       "      <th>sex</th>\n",
       "      <th>cp</th>\n",
       "      <th>trestbps</th>\n",
       "      <th>chol</th>\n",
       "      <th>fbs</th>\n",
       "      <th>restecg</th>\n",
       "      <th>thalach</th>\n",
       "      <th>exang</th>\n",
       "      <th>oldpeak</th>\n",
       "      <th>slope</th>\n",
       "      <th>ca</th>\n",
       "      <th>thal</th>\n",
       "      <th>target</th>\n",
       "    </tr>\n",
       "  </thead>\n",
       "  <tbody>\n",
       "    <tr>\n",
       "      <th>88</th>\n",
       "      <td>54</td>\n",
       "      <td>0</td>\n",
       "      <td>2</td>\n",
       "      <td>110</td>\n",
       "      <td>214</td>\n",
       "      <td>0</td>\n",
       "      <td>1</td>\n",
       "      <td>158</td>\n",
       "      <td>0</td>\n",
       "      <td>1.6</td>\n",
       "      <td>1</td>\n",
       "      <td>0</td>\n",
       "      <td>2</td>\n",
       "      <td>1</td>\n",
       "    </tr>\n",
       "    <tr>\n",
       "      <th>296</th>\n",
       "      <td>63</td>\n",
       "      <td>0</td>\n",
       "      <td>0</td>\n",
       "      <td>124</td>\n",
       "      <td>197</td>\n",
       "      <td>0</td>\n",
       "      <td>1</td>\n",
       "      <td>136</td>\n",
       "      <td>1</td>\n",
       "      <td>0.0</td>\n",
       "      <td>1</td>\n",
       "      <td>0</td>\n",
       "      <td>2</td>\n",
       "      <td>0</td>\n",
       "    </tr>\n",
       "    <tr>\n",
       "      <th>210</th>\n",
       "      <td>57</td>\n",
       "      <td>1</td>\n",
       "      <td>2</td>\n",
       "      <td>128</td>\n",
       "      <td>229</td>\n",
       "      <td>0</td>\n",
       "      <td>0</td>\n",
       "      <td>150</td>\n",
       "      <td>0</td>\n",
       "      <td>0.4</td>\n",
       "      <td>1</td>\n",
       "      <td>1</td>\n",
       "      <td>3</td>\n",
       "      <td>0</td>\n",
       "    </tr>\n",
       "    <tr>\n",
       "      <th>44</th>\n",
       "      <td>39</td>\n",
       "      <td>1</td>\n",
       "      <td>2</td>\n",
       "      <td>140</td>\n",
       "      <td>321</td>\n",
       "      <td>0</td>\n",
       "      <td>0</td>\n",
       "      <td>182</td>\n",
       "      <td>0</td>\n",
       "      <td>0.0</td>\n",
       "      <td>2</td>\n",
       "      <td>0</td>\n",
       "      <td>2</td>\n",
       "      <td>1</td>\n",
       "    </tr>\n",
       "    <tr>\n",
       "      <th>259</th>\n",
       "      <td>38</td>\n",
       "      <td>1</td>\n",
       "      <td>3</td>\n",
       "      <td>120</td>\n",
       "      <td>231</td>\n",
       "      <td>0</td>\n",
       "      <td>1</td>\n",
       "      <td>182</td>\n",
       "      <td>1</td>\n",
       "      <td>3.8</td>\n",
       "      <td>1</td>\n",
       "      <td>0</td>\n",
       "      <td>3</td>\n",
       "      <td>0</td>\n",
       "    </tr>\n",
       "  </tbody>\n",
       "</table>\n",
       "</div>"
      ],
      "text/plain": [
       "     age  sex  cp  trestbps  chol  fbs  restecg  thalach  exang  oldpeak  \\\n",
       "88    54    0   2       110   214    0        1      158      0      1.6   \n",
       "296   63    0   0       124   197    0        1      136      1      0.0   \n",
       "210   57    1   2       128   229    0        0      150      0      0.4   \n",
       "44    39    1   2       140   321    0        0      182      0      0.0   \n",
       "259   38    1   3       120   231    0        1      182      1      3.8   \n",
       "\n",
       "     slope  ca  thal  target  \n",
       "88       1   0     2       1  \n",
       "296      1   0     2       0  \n",
       "210      1   1     3       0  \n",
       "44       2   0     2       1  \n",
       "259      1   0     3       0  "
      ]
     },
     "execution_count": 12,
     "metadata": {},
     "output_type": "execute_result"
    }
   ],
   "source": [
    "import pandas as pd\n",
    "from sklearn.preprocessing import StandardScaler\n",
    "\n",
    "df = pd.read_csv('https://raw.githubusercontent.com/ryanleeallred/datasets/master/heart.csv')\n",
    "df = df.sample(frac=1)\n",
    "print(df.shape)\n",
    "df.head()"
   ]
  },
  {
   "cell_type": "code",
   "execution_count": 13,
   "metadata": {},
   "outputs": [
    {
     "data": {
      "text/html": [
       "<div>\n",
       "<style scoped>\n",
       "    .dataframe tbody tr th:only-of-type {\n",
       "        vertical-align: middle;\n",
       "    }\n",
       "\n",
       "    .dataframe tbody tr th {\n",
       "        vertical-align: top;\n",
       "    }\n",
       "\n",
       "    .dataframe thead th {\n",
       "        text-align: right;\n",
       "    }\n",
       "</style>\n",
       "<table border=\"1\" class=\"dataframe\">\n",
       "  <thead>\n",
       "    <tr style=\"text-align: right;\">\n",
       "      <th></th>\n",
       "      <th>age</th>\n",
       "      <th>sex</th>\n",
       "      <th>cp</th>\n",
       "      <th>trestbps</th>\n",
       "      <th>chol</th>\n",
       "      <th>fbs</th>\n",
       "      <th>restecg</th>\n",
       "      <th>thalach</th>\n",
       "      <th>exang</th>\n",
       "      <th>oldpeak</th>\n",
       "      <th>slope</th>\n",
       "      <th>ca</th>\n",
       "      <th>thal</th>\n",
       "    </tr>\n",
       "  </thead>\n",
       "  <tbody>\n",
       "    <tr>\n",
       "      <th>88</th>\n",
       "      <td>54</td>\n",
       "      <td>0</td>\n",
       "      <td>2</td>\n",
       "      <td>110</td>\n",
       "      <td>214</td>\n",
       "      <td>0</td>\n",
       "      <td>1</td>\n",
       "      <td>158</td>\n",
       "      <td>0</td>\n",
       "      <td>1.6</td>\n",
       "      <td>1</td>\n",
       "      <td>0</td>\n",
       "      <td>2</td>\n",
       "    </tr>\n",
       "    <tr>\n",
       "      <th>296</th>\n",
       "      <td>63</td>\n",
       "      <td>0</td>\n",
       "      <td>0</td>\n",
       "      <td>124</td>\n",
       "      <td>197</td>\n",
       "      <td>0</td>\n",
       "      <td>1</td>\n",
       "      <td>136</td>\n",
       "      <td>1</td>\n",
       "      <td>0.0</td>\n",
       "      <td>1</td>\n",
       "      <td>0</td>\n",
       "      <td>2</td>\n",
       "    </tr>\n",
       "    <tr>\n",
       "      <th>210</th>\n",
       "      <td>57</td>\n",
       "      <td>1</td>\n",
       "      <td>2</td>\n",
       "      <td>128</td>\n",
       "      <td>229</td>\n",
       "      <td>0</td>\n",
       "      <td>0</td>\n",
       "      <td>150</td>\n",
       "      <td>0</td>\n",
       "      <td>0.4</td>\n",
       "      <td>1</td>\n",
       "      <td>1</td>\n",
       "      <td>3</td>\n",
       "    </tr>\n",
       "    <tr>\n",
       "      <th>44</th>\n",
       "      <td>39</td>\n",
       "      <td>1</td>\n",
       "      <td>2</td>\n",
       "      <td>140</td>\n",
       "      <td>321</td>\n",
       "      <td>0</td>\n",
       "      <td>0</td>\n",
       "      <td>182</td>\n",
       "      <td>0</td>\n",
       "      <td>0.0</td>\n",
       "      <td>2</td>\n",
       "      <td>0</td>\n",
       "      <td>2</td>\n",
       "    </tr>\n",
       "    <tr>\n",
       "      <th>259</th>\n",
       "      <td>38</td>\n",
       "      <td>1</td>\n",
       "      <td>3</td>\n",
       "      <td>120</td>\n",
       "      <td>231</td>\n",
       "      <td>0</td>\n",
       "      <td>1</td>\n",
       "      <td>182</td>\n",
       "      <td>1</td>\n",
       "      <td>3.8</td>\n",
       "      <td>1</td>\n",
       "      <td>0</td>\n",
       "      <td>3</td>\n",
       "    </tr>\n",
       "  </tbody>\n",
       "</table>\n",
       "</div>"
      ],
      "text/plain": [
       "     age  sex  cp  trestbps  chol  fbs  restecg  thalach  exang  oldpeak  \\\n",
       "88    54    0   2       110   214    0        1      158      0      1.6   \n",
       "296   63    0   0       124   197    0        1      136      1      0.0   \n",
       "210   57    1   2       128   229    0        0      150      0      0.4   \n",
       "44    39    1   2       140   321    0        0      182      0      0.0   \n",
       "259   38    1   3       120   231    0        1      182      1      3.8   \n",
       "\n",
       "     slope  ca  thal  \n",
       "88       1   0     2  \n",
       "296      1   0     2  \n",
       "210      1   1     3  \n",
       "44       2   0     2  \n",
       "259      1   0     3  "
      ]
     },
     "execution_count": 13,
     "metadata": {},
     "output_type": "execute_result"
    }
   ],
   "source": [
    "# Get the input data\n",
    "X = df[df.columns[:13]]\n",
    "X.head()"
   ]
  },
  {
   "cell_type": "code",
   "execution_count": 14,
   "metadata": {},
   "outputs": [
    {
     "data": {
      "text/plain": [
       "((303, 13), numpy.ndarray)"
      ]
     },
     "execution_count": 14,
     "metadata": {},
     "output_type": "execute_result"
    }
   ],
   "source": [
    "# Convert to numpy array\n",
    "X = X.to_numpy()\n",
    "X.shape, type(X)"
   ]
  },
  {
   "cell_type": "code",
   "execution_count": 17,
   "metadata": {},
   "outputs": [
    {
     "data": {
      "text/plain": [
       "array([[0.18436525, 0.        , 0.00682834, ..., 0.00341417, 0.        ,\n",
       "        0.00682834],\n",
       "       [0.22754361, 0.        , 0.        , ..., 0.0036118 , 0.        ,\n",
       "        0.00722361],\n",
       "       [0.18533262, 0.00325145, 0.0065029 , ..., 0.00325145, 0.00325145,\n",
       "        0.00975435],\n",
       "       ...,\n",
       "       [0.16996026, 0.00314741, 0.        , ..., 0.00314741, 0.00314741,\n",
       "        0.00944224],\n",
       "       [0.19635854, 0.00344489, 0.00688977, ..., 0.00688977, 0.        ,\n",
       "        0.00688977],\n",
       "       [0.21132707, 0.00301896, 0.00301896, ..., 0.00603792, 0.        ,\n",
       "        0.00603792]])"
      ]
     },
     "execution_count": 17,
     "metadata": {},
     "output_type": "execute_result"
    }
   ],
   "source": [
    "# Normalize all of X\n",
    "from tensorflow.keras.utils import normalize\n",
    "\n",
    "X = normalize(X)\n",
    "X"
   ]
  },
  {
   "cell_type": "code",
   "execution_count": 18,
   "metadata": {},
   "outputs": [
    {
     "data": {
      "text/html": [
       "<div>\n",
       "<style scoped>\n",
       "    .dataframe tbody tr th:only-of-type {\n",
       "        vertical-align: middle;\n",
       "    }\n",
       "\n",
       "    .dataframe tbody tr th {\n",
       "        vertical-align: top;\n",
       "    }\n",
       "\n",
       "    .dataframe thead th {\n",
       "        text-align: right;\n",
       "    }\n",
       "</style>\n",
       "<table border=\"1\" class=\"dataframe\">\n",
       "  <thead>\n",
       "    <tr style=\"text-align: right;\">\n",
       "      <th></th>\n",
       "      <th>target</th>\n",
       "    </tr>\n",
       "  </thead>\n",
       "  <tbody>\n",
       "    <tr>\n",
       "      <th>88</th>\n",
       "      <td>1</td>\n",
       "    </tr>\n",
       "    <tr>\n",
       "      <th>296</th>\n",
       "      <td>0</td>\n",
       "    </tr>\n",
       "    <tr>\n",
       "      <th>210</th>\n",
       "      <td>0</td>\n",
       "    </tr>\n",
       "    <tr>\n",
       "      <th>44</th>\n",
       "      <td>1</td>\n",
       "    </tr>\n",
       "    <tr>\n",
       "      <th>259</th>\n",
       "      <td>0</td>\n",
       "    </tr>\n",
       "  </tbody>\n",
       "</table>\n",
       "</div>"
      ],
      "text/plain": [
       "     target\n",
       "88        1\n",
       "296       0\n",
       "210       0\n",
       "44        1\n",
       "259       0"
      ]
     },
     "execution_count": 18,
     "metadata": {},
     "output_type": "execute_result"
    }
   ],
   "source": [
    "# Get the target column\n",
    "y = df[df.columns[13:]]\n",
    "y.head()"
   ]
  },
  {
   "cell_type": "code",
   "execution_count": 19,
   "metadata": {},
   "outputs": [
    {
     "data": {
      "text/plain": [
       "((303, 1), numpy.ndarray)"
      ]
     },
     "execution_count": 19,
     "metadata": {},
     "output_type": "execute_result"
    }
   ],
   "source": [
    "# Convert to numpy array\n",
    "y = y.to_numpy()\n",
    "y.shape, type(y)"
   ]
  },
  {
   "cell_type": "markdown",
   "metadata": {},
   "source": [
    "## Now, the model!\n",
    "\n",
    "### Baseline"
   ]
  },
  {
   "cell_type": "code",
   "execution_count": 22,
   "metadata": {},
   "outputs": [
    {
     "name": "stdout",
     "output_type": "stream",
     "text": [
      "Train on 303 samples\n",
      "Epoch 1/10\n",
      "303/303 [==============================] - 0s 665us/sample - loss: 0.7653 - accuracy: 0.4554\n",
      "Epoch 2/10\n",
      "303/303 [==============================] - 0s 33us/sample - loss: 0.7435 - accuracy: 0.4554\n",
      "Epoch 3/10\n",
      "303/303 [==============================] - 0s 36us/sample - loss: 0.7259 - accuracy: 0.4554\n",
      "Epoch 4/10\n",
      "303/303 [==============================] - 0s 39us/sample - loss: 0.7134 - accuracy: 0.4554\n",
      "Epoch 5/10\n",
      "303/303 [==============================] - 0s 40us/sample - loss: 0.7033 - accuracy: 0.4554\n",
      "Epoch 6/10\n",
      "303/303 [==============================] - 0s 40us/sample - loss: 0.6984 - accuracy: 0.4554\n",
      "Epoch 7/10\n",
      "303/303 [==============================] - 0s 34us/sample - loss: 0.6938 - accuracy: 0.4785\n",
      "Epoch 8/10\n",
      "303/303 [==============================] - 0s 43us/sample - loss: 0.6916 - accuracy: 0.5446\n",
      "Epoch 9/10\n",
      "303/303 [==============================] - 0s 43us/sample - loss: 0.6909 - accuracy: 0.5446\n",
      "Epoch 10/10\n",
      "303/303 [==============================] - 0s 40us/sample - loss: 0.6896 - accuracy: 0.5446\n"
     ]
    },
    {
     "data": {
      "text/plain": [
       "<tensorflow.python.keras.callbacks.History at 0x1bb1e1efba8>"
      ]
     },
     "execution_count": 22,
     "metadata": {},
     "output_type": "execute_result"
    }
   ],
   "source": [
    "# Create the model\n",
    "model = Sequential()\n",
    "model.add(Dense(20, input_dim=13, activation='sigmoid'))\n",
    "model.add(Dense(1, activation='sigmoid'))\n",
    "\n",
    "# Compile the Model\n",
    "model.compile(loss='binary_crossentropy', optimizer='adam', metrics=['accuracy'])\n",
    "\n",
    "# Fit the model\n",
    "model.fit(X, y,\n",
    "          epochs=10)"
   ]
  },
  {
   "cell_type": "markdown",
   "metadata": {},
   "source": [
    "### Baseline Accuracy: 54%\n",
    "\n",
    "## Hyperparamer Tuning\n",
    "\n",
    "### Start with batch size"
   ]
  },
  {
   "cell_type": "code",
   "execution_count": 23,
   "metadata": {},
   "outputs": [],
   "source": [
    "from sklearn.model_selection import GridSearchCV\n",
    "from tensorflow.keras.wrappers.scikit_learn import KerasClassifier"
   ]
  },
  {
   "cell_type": "code",
   "execution_count": 27,
   "metadata": {},
   "outputs": [
    {
     "name": "stdout",
     "output_type": "stream",
     "text": [
      "Fitting 5 folds for each of 6 candidates, totalling 30 fits\n"
     ]
    },
    {
     "name": "stderr",
     "output_type": "stream",
     "text": [
      "[Parallel(n_jobs=6)]: Using backend LokyBackend with 6 concurrent workers.\n",
      "[Parallel(n_jobs=6)]: Done   1 tasks      | elapsed:    0.6s\n",
      "[Parallel(n_jobs=6)]: Done   6 tasks      | elapsed:    0.9s\n",
      "[Parallel(n_jobs=6)]: Done  13 tasks      | elapsed:    2.0s\n",
      "[Parallel(n_jobs=6)]: Done  23 out of  30 | elapsed:    2.8s remaining:    0.8s\n",
      "[Parallel(n_jobs=6)]: Done  27 out of  30 | elapsed:    3.2s remaining:    0.3s\n",
      "[Parallel(n_jobs=6)]: Done  30 out of  30 | elapsed:    3.3s finished\n"
     ]
    },
    {
     "name": "stdout",
     "output_type": "stream",
     "text": [
      "Best: 0.5778688430786133 using {'batch_size': 60, 'epochs': 20}\n",
      "Means: 0.5516393423080445, Stdev: 0.06874916235933248 with: {'batch_size': 10, 'epochs': 20}\n",
      "Means: 0.571639335155487, Stdev: 0.09448565257600627 with: {'batch_size': 20, 'epochs': 20}\n",
      "Means: 0.5516393423080445, Stdev: 0.0778445945256429 with: {'batch_size': 40, 'epochs': 20}\n",
      "Means: 0.5778688430786133, Stdev: 0.04194643703625284 with: {'batch_size': 60, 'epochs': 20}\n",
      "Means: 0.5449726819992066, Stdev: 0.06176546522847217 with: {'batch_size': 80, 'epochs': 20}\n",
      "Means: 0.5449726819992066, Stdev: 0.06176546522847217 with: {'batch_size': 100, 'epochs': 20}\n"
     ]
    }
   ],
   "source": [
    "# Function to create model, required for KerasClassifier\n",
    "def create_model():\n",
    "    # create model\n",
    "    model = Sequential()\n",
    "    model.add(Dense(20, input_dim=13, activation='relu'))\n",
    "    model.add(Dense(1, activation='sigmoid'))\n",
    "    # Compile model\n",
    "    model.compile(loss='binary_crossentropy', optimizer='adam', metrics=['accuracy'])\n",
    "    return model\n",
    "\n",
    "# create model\n",
    "model = KerasClassifier(build_fn=create_model, verbose=0)\n",
    "\n",
    "param_grid = {'batch_size': [10, 20, 40, 60, 80, 100],\n",
    "              'epochs': [20]}\n",
    "\n",
    "# Create Grid Search\n",
    "grid = GridSearchCV(estimator=model, param_grid=param_grid, n_jobs=6, verbose=10)\n",
    "grid_result = grid.fit(X, y)\n",
    "\n",
    "# Report Results\n",
    "print(f\"Best: {grid_result.best_score_} using {grid_result.best_params_}\")\n",
    "means = grid_result.cv_results_['mean_test_score']\n",
    "stds = grid_result.cv_results_['std_test_score']\n",
    "params = grid_result.cv_results_['params']\n",
    "for mean, stdev, param in zip(means, stds, params):\n",
    "    print(f\"Means: {mean}, Stdev: {stdev} with: {param}\")"
   ]
  },
  {
   "cell_type": "markdown",
   "metadata": {},
   "source": [
    "### Batch size of 60 does the best at 57.8%. Update that and try epochs."
   ]
  },
  {
   "cell_type": "code",
   "execution_count": 28,
   "metadata": {},
   "outputs": [
    {
     "name": "stdout",
     "output_type": "stream",
     "text": [
      "Fitting 5 folds for each of 7 candidates, totalling 35 fits\n"
     ]
    },
    {
     "name": "stderr",
     "output_type": "stream",
     "text": [
      "[Parallel(n_jobs=6)]: Using backend LokyBackend with 6 concurrent workers.\n",
      "[Parallel(n_jobs=6)]: Done   1 tasks      | elapsed:    0.4s\n",
      "[Parallel(n_jobs=6)]: Done   6 tasks      | elapsed:    0.5s\n",
      "[Parallel(n_jobs=6)]: Done  13 tasks      | elapsed:    1.7s\n",
      "[Parallel(n_jobs=6)]: Done  20 tasks      | elapsed:    2.5s\n",
      "[Parallel(n_jobs=6)]: Done  28 out of  35 | elapsed:    3.7s remaining:    0.9s\n",
      "[Parallel(n_jobs=6)]: Done  32 out of  35 | elapsed:    4.6s remaining:    0.3s\n",
      "[Parallel(n_jobs=6)]: Done  35 out of  35 | elapsed:    4.8s finished\n"
     ]
    },
    {
     "name": "stdout",
     "output_type": "stream",
     "text": [
      "Best: 0.5815300405025482 using {'epochs': 100}\n",
      "Means: 0.4583060085773468, Stdev: 0.0640244071292041 with: {'epochs': 10}\n",
      "Means: 0.5516393423080445, Stdev: 0.06874916235933248 with: {'epochs': 20}\n",
      "Means: 0.5714754104614258, Stdev: 0.07944171236936405 with: {'epochs': 30}\n",
      "Means: 0.578306007385254, Stdev: 0.10184473193824446 with: {'epochs': 40}\n",
      "Means: 0.554808747768402, Stdev: 0.060774168632055016 with: {'epochs': 60}\n",
      "Means: 0.5813114762306213, Stdev: 0.07877586931134783 with: {'epochs': 80}\n",
      "Means: 0.5815300405025482, Stdev: 0.08842815785850758 with: {'epochs': 100}\n"
     ]
    }
   ],
   "source": [
    "# Function to create model, required for KerasClassifier\n",
    "def create_model():\n",
    "    # create model\n",
    "    model = Sequential()\n",
    "    model.add(Dense(20, input_dim=13, activation='relu'))\n",
    "    model.add(Dense(1, activation='sigmoid'))\n",
    "    # Compile model\n",
    "    model.compile(loss='binary_crossentropy', optimizer='adam', metrics=['accuracy'])\n",
    "    return model\n",
    "\n",
    "# create model\n",
    "model = KerasClassifier(build_fn=create_model, batch_size=60, verbose=0)\n",
    "\n",
    "param_grid = {'epochs': [10, 20, 30, 40, 60, 80, 100]}\n",
    "\n",
    "# Create Grid Search\n",
    "grid = GridSearchCV(estimator=model, param_grid=param_grid, n_jobs=6, verbose=10)\n",
    "grid_result = grid.fit(X, y)\n",
    "\n",
    "# Report Results\n",
    "print(f\"Best: {grid_result.best_score_} using {grid_result.best_params_}\")\n",
    "means = grid_result.cv_results_['mean_test_score']\n",
    "stds = grid_result.cv_results_['std_test_score']\n",
    "params = grid_result.cv_results_['params']\n",
    "for mean, stdev, param in zip(means, stds, params):\n",
    "    print(f\"Means: {mean}, Stdev: {stdev} with: {param}\")"
   ]
  },
  {
   "cell_type": "markdown",
   "metadata": {},
   "source": [
    "### 100 epochs does the best at 58.2%. Update that and try different optimizers."
   ]
  },
  {
   "cell_type": "code",
   "execution_count": 31,
   "metadata": {},
   "outputs": [
    {
     "name": "stdout",
     "output_type": "stream",
     "text": [
      "Fitting 5 folds for each of 7 candidates, totalling 35 fits\n"
     ]
    },
    {
     "name": "stderr",
     "output_type": "stream",
     "text": [
      "[Parallel(n_jobs=6)]: Using backend LokyBackend with 6 concurrent workers.\n",
      "[Parallel(n_jobs=6)]: Done   1 tasks      | elapsed:    0.9s\n",
      "[Parallel(n_jobs=6)]: Done   6 tasks      | elapsed:    1.1s\n",
      "[Parallel(n_jobs=6)]: Done  13 tasks      | elapsed:    3.0s\n",
      "[Parallel(n_jobs=6)]: Done  20 tasks      | elapsed:    4.0s\n",
      "[Parallel(n_jobs=6)]: Done  28 out of  35 | elapsed:    5.3s remaining:    1.2s\n",
      "[Parallel(n_jobs=6)]: Done  32 out of  35 | elapsed:    6.3s remaining:    0.5s\n",
      "[Parallel(n_jobs=6)]: Done  35 out of  35 | elapsed:    6.6s finished\n"
     ]
    },
    {
     "name": "stdout",
     "output_type": "stream",
     "text": [
      "Best: 0.571639335155487 using {'optimizer': 'Nadam'}\n",
      "Means: 0.5449726819992066, Stdev: 0.06176546522847217 with: {'optimizer': 'SGD'}\n",
      "Means: 0.5682513594627381, Stdev: 0.08673774877464369 with: {'optimizer': 'RMSprop'}\n",
      "Means: 0.5378142058849334, Stdev: 0.10280497455923845 with: {'optimizer': 'Adagrad'}\n",
      "Means: 0.5416939854621887, Stdev: 0.06232278848069726 with: {'optimizer': 'Adadelta'}\n",
      "Means: 0.5647540926933289, Stdev: 0.06700709936766565 with: {'optimizer': 'Adam'}\n",
      "Means: 0.5349726796150207, Stdev: 0.05273606632529555 with: {'optimizer': 'Adamax'}\n",
      "Means: 0.571639335155487, Stdev: 0.09448565257600627 with: {'optimizer': 'Nadam'}\n"
     ]
    }
   ],
   "source": [
    "# Function to create model, required for KerasClassifier\n",
    "def create_model(optimizer='adam'):\n",
    "    # create model\n",
    "    model = Sequential()\n",
    "    model.add(Dense(20, input_dim=13, activation='relu'))\n",
    "    model.add(Dense(1, activation='sigmoid'))\n",
    "    # Compile model\n",
    "    model.compile(loss='binary_crossentropy', optimizer=optimizer, metrics=['accuracy'])\n",
    "    return model\n",
    "\n",
    "# create model\n",
    "model = KerasClassifier(build_fn=create_model, batch_size=60, epochs=100, verbose=0)\n",
    "\n",
    "param_grid = {'optimizer': ['SGD', 'RMSprop', 'Adagrad', 'Adadelta', 'Adam', 'Adamax', 'Nadam']}\n",
    "\n",
    "# Create Grid Search\n",
    "grid = GridSearchCV(estimator=model, param_grid=param_grid, n_jobs=6, verbose=10)\n",
    "grid_result = grid.fit(X, y)\n",
    "\n",
    "# Report Results\n",
    "print(f\"Best: {grid_result.best_score_} using {grid_result.best_params_}\")\n",
    "means = grid_result.cv_results_['mean_test_score']\n",
    "stds = grid_result.cv_results_['std_test_score']\n",
    "params = grid_result.cv_results_['params']\n",
    "for mean, stdev, param in zip(means, stds, params):\n",
    "    print(f\"Means: {mean}, Stdev: {stdev} with: {param}\")"
   ]
  },
  {
   "cell_type": "markdown",
   "metadata": {},
   "source": [
    "### Slight decrease overall but 'Nadam' was the best at 57.2%. Update that and try learning rate."
   ]
  },
  {
   "cell_type": "code",
   "execution_count": 33,
   "metadata": {},
   "outputs": [
    {
     "name": "stdout",
     "output_type": "stream",
     "text": [
      "Fitting 5 folds for each of 6 candidates, totalling 30 fits\n"
     ]
    },
    {
     "name": "stderr",
     "output_type": "stream",
     "text": [
      "[Parallel(n_jobs=6)]: Using backend LokyBackend with 6 concurrent workers.\n",
      "[Parallel(n_jobs=6)]: Done   1 tasks      | elapsed:    1.2s\n",
      "[Parallel(n_jobs=6)]: Done   6 tasks      | elapsed:    1.5s\n",
      "[Parallel(n_jobs=6)]: Done  13 tasks      | elapsed:    4.0s\n",
      "[Parallel(n_jobs=6)]: Done  23 out of  30 | elapsed:    5.6s remaining:    1.6s\n",
      "[Parallel(n_jobs=6)]: Done  27 out of  30 | elapsed:    6.7s remaining:    0.7s\n",
      "[Parallel(n_jobs=6)]: Done  30 out of  30 | elapsed:    7.1s finished\n"
     ]
    },
    {
     "name": "stdout",
     "output_type": "stream",
     "text": [
      "Best: 0.7035519123077393 using {'learn_rate': 0.01}\n",
      "Means: 0.673606562614441, Stdev: 0.07830654413159654 with: {'learn_rate': 0.001}\n",
      "Means: 0.7035519123077393, Stdev: 0.09212148282923084 with: {'learn_rate': 0.01}\n",
      "Means: 0.574972677230835, Stdev: 0.10824329274203592 with: {'learn_rate': 0.1}\n",
      "Means: 0.5580874383449554, Stdev: 0.04963229413144013 with: {'learn_rate': 0.2}\n",
      "Means: 0.49830601215362547, Stdev: 0.07638484945503064 with: {'learn_rate': 0.3}\n",
      "Means: 0.49830601215362547, Stdev: 0.07638484945503064 with: {'learn_rate': 0.5}\n"
     ]
    }
   ],
   "source": [
    "from tensorflow.keras.optimizers import Nadam\n",
    "\n",
    "# Function to create model, required for KerasClassifier\n",
    "def create_model(learn_rate=0.001):\n",
    "    # create model\n",
    "    model = Sequential()\n",
    "    model.add(Dense(128, input_dim=13, activation='relu'))\n",
    "    model.add(Dense(1, activation='sigmoid'))\n",
    "    # Compile model\n",
    "    optimizer = Nadam(lr=learn_rate)\n",
    "    model.compile(loss='binary_crossentropy', optimizer=optimizer, metrics=['accuracy'])\n",
    "    return model\n",
    "\n",
    "# create model\n",
    "model = KerasClassifier(build_fn=create_model, batch_size=60, epochs=100, verbose=0)\n",
    "\n",
    "param_grid = {'learn_rate': [.001, .01, .1, .2, .3, .5]}\n",
    "\n",
    "# Create Grid Search\n",
    "grid = GridSearchCV(estimator=model, param_grid=param_grid, n_jobs=6, verbose=10)\n",
    "grid_result = grid.fit(X, y)\n",
    "\n",
    "# Report Results\n",
    "print(f\"Best: {grid_result.best_score_} using {grid_result.best_params_}\")\n",
    "means = grid_result.cv_results_['mean_test_score']\n",
    "stds = grid_result.cv_results_['std_test_score']\n",
    "params = grid_result.cv_results_['params']\n",
    "for mean, stdev, param in zip(means, stds, params):\n",
    "    print(f\"Means: {mean}, Stdev: {stdev} with: {param}\")"
   ]
  },
  {
   "cell_type": "markdown",
   "metadata": {},
   "source": [
    "### That's a much better accuracy. Let's try fine-tuning the learning rate around 0.01."
   ]
  },
  {
   "cell_type": "code",
   "execution_count": 34,
   "metadata": {},
   "outputs": [
    {
     "name": "stdout",
     "output_type": "stream",
     "text": [
      "Fitting 5 folds for each of 5 candidates, totalling 25 fits\n"
     ]
    },
    {
     "name": "stderr",
     "output_type": "stream",
     "text": [
      "[Parallel(n_jobs=6)]: Using backend LokyBackend with 6 concurrent workers.\n",
      "[Parallel(n_jobs=6)]: Done   1 tasks      | elapsed:    1.3s\n",
      "[Parallel(n_jobs=6)]: Done   6 tasks      | elapsed:    1.4s\n",
      "[Parallel(n_jobs=6)]: Done  13 tasks      | elapsed:    3.8s\n",
      "[Parallel(n_jobs=6)]: Done  17 out of  25 | elapsed:    4.1s remaining:    1.9s\n",
      "[Parallel(n_jobs=6)]: Done  20 out of  25 | elapsed:    5.2s remaining:    1.2s\n",
      "[Parallel(n_jobs=6)]: Done  23 out of  25 | elapsed:    5.4s remaining:    0.4s\n",
      "[Parallel(n_jobs=6)]: Done  25 out of  25 | elapsed:    6.1s finished\n"
     ]
    },
    {
     "name": "stdout",
     "output_type": "stream",
     "text": [
      "Best: 0.7591803193092346 using {'learn_rate': 0.008}\n",
      "Means: 0.7193989157676697, Stdev: 0.09177952747492356 with: {'learn_rate': 0.005}\n",
      "Means: 0.7591803193092346, Stdev: 0.09188938056960816 with: {'learn_rate': 0.008}\n",
      "Means: 0.6608196496963501, Stdev: 0.10097461771382178 with: {'learn_rate': 0.01}\n",
      "Means: 0.726338791847229, Stdev: 0.09288566954190677 with: {'learn_rate': 0.012}\n",
      "Means: 0.7158469915390014, Stdev: 0.13545962239036477 with: {'learn_rate': 0.015}\n"
     ]
    }
   ],
   "source": [
    "from tensorflow.keras.optimizers import Nadam\n",
    "\n",
    "# Function to create model, required for KerasClassifier\n",
    "def create_model(learn_rate=0.001):\n",
    "    # create model\n",
    "    model = Sequential()\n",
    "    model.add(Dense(128, input_dim=13, activation='relu'))\n",
    "    model.add(Dense(1, activation='sigmoid'))\n",
    "    # Compile model\n",
    "    optimizer = Nadam(lr=learn_rate)\n",
    "    model.compile(loss='binary_crossentropy', optimizer=optimizer, metrics=['accuracy'])\n",
    "    return model\n",
    "\n",
    "# create model\n",
    "model = KerasClassifier(build_fn=create_model, batch_size=60, epochs=100, verbose=0)\n",
    "\n",
    "param_grid = {'learn_rate': [.005, .008, .01, .012, .015]}\n",
    "\n",
    "# Create Grid Search\n",
    "grid = GridSearchCV(estimator=model, param_grid=param_grid, n_jobs=6, verbose=10)\n",
    "grid_result = grid.fit(X, y)\n",
    "\n",
    "# Report Results\n",
    "print(f\"Best: {grid_result.best_score_} using {grid_result.best_params_}\")\n",
    "means = grid_result.cv_results_['mean_test_score']\n",
    "stds = grid_result.cv_results_['std_test_score']\n",
    "params = grid_result.cv_results_['params']\n",
    "for mean, stdev, param in zip(means, stds, params):\n",
    "    print(f\"Means: {mean}, Stdev: {stdev} with: {param}\")"
   ]
  },
  {
   "cell_type": "markdown",
   "metadata": {},
   "source": [
    "### Learning rate of 0.008 for the win with 75.9% accuracy!"
   ]
  },
  {
   "cell_type": "code",
   "execution_count": 35,
   "metadata": {},
   "outputs": [
    {
     "name": "stdout",
     "output_type": "stream",
     "text": [
      "Fitting 5 folds for each of 8 candidates, totalling 40 fits\n"
     ]
    },
    {
     "name": "stderr",
     "output_type": "stream",
     "text": [
      "[Parallel(n_jobs=6)]: Using backend LokyBackend with 6 concurrent workers.\n",
      "[Parallel(n_jobs=6)]: Done   1 tasks      | elapsed:    1.2s\n",
      "[Parallel(n_jobs=6)]: Done   6 tasks      | elapsed:    1.2s\n",
      "[Parallel(n_jobs=6)]: Done  13 tasks      | elapsed:    3.8s\n",
      "[Parallel(n_jobs=6)]: Done  20 tasks      | elapsed:    5.2s\n",
      "[Parallel(n_jobs=6)]: Done  29 tasks      | elapsed:    6.8s\n",
      "[Parallel(n_jobs=6)]: Done  34 out of  40 | elapsed:    8.3s remaining:    1.4s\n",
      "[Parallel(n_jobs=6)]: Done  40 out of  40 | elapsed:    9.4s finished\n"
     ]
    },
    {
     "name": "stdout",
     "output_type": "stream",
     "text": [
      "Best: 0.7524590134620667 using {'init_mode': 'glorot_normal'}\n",
      "Means: 0.6830054521560669, Stdev: 0.07830440108300177 with: {'init_mode': 'uniform'}\n",
      "Means: 0.7227868795394897, Stdev: 0.02613918636658556 with: {'init_mode': 'lecun_uniform'}\n",
      "Means: 0.6860109210014343, Stdev: 0.08797344582885033 with: {'init_mode': 'normal'}\n",
      "Means: 0.5449726819992066, Stdev: 0.06176546522847217 with: {'init_mode': 'zero'}\n",
      "Means: 0.7524590134620667, Stdev: 0.05219193825031612 with: {'init_mode': 'glorot_normal'}\n",
      "Means: 0.7089070916175843, Stdev: 0.119451295394712 with: {'init_mode': 'glorot_uniform'}\n",
      "Means: 0.702677595615387, Stdev: 0.12562631051393772 with: {'init_mode': 'he_normal'}\n",
      "Means: 0.6897814273834229, Stdev: 0.06245057826432485 with: {'init_mode': 'he_uniform'}\n"
     ]
    }
   ],
   "source": [
    "from tensorflow.keras.optimizers import Nadam\n",
    "\n",
    "# Function to create model, required for KerasClassifier\n",
    "def create_model(init_mode='uniform'):\n",
    "    # create model\n",
    "    model = Sequential()\n",
    "    model.add(Dense(128, input_dim=13, kernel_initializer=init_mode, activation='relu'))\n",
    "    model.add(Dense(1, activation='sigmoid'))\n",
    "    # Compile model\n",
    "    optimizer = Nadam(lr=0.008)\n",
    "    model.compile(loss='binary_crossentropy', optimizer=optimizer, metrics=['accuracy'])\n",
    "    return model\n",
    "\n",
    "# create model\n",
    "model = KerasClassifier(build_fn=create_model, batch_size=60, epochs=100, verbose=0)\n",
    "\n",
    "param_grid = {'init_mode': ['uniform', 'lecun_uniform', 'normal', 'zero', 'glorot_normal', 'glorot_uniform', 'he_normal', 'he_uniform']}\n",
    "\n",
    "# Create Grid Search\n",
    "grid = GridSearchCV(estimator=model, param_grid=param_grid, n_jobs=6, verbose=10)\n",
    "grid_result = grid.fit(X, y)\n",
    "\n",
    "# Report Results\n",
    "print(f\"Best: {grid_result.best_score_} using {grid_result.best_params_}\")\n",
    "means = grid_result.cv_results_['mean_test_score']\n",
    "stds = grid_result.cv_results_['std_test_score']\n",
    "params = grid_result.cv_results_['params']\n",
    "for mean, stdev, param in zip(means, stds, params):\n",
    "    print(f\"Means: {mean}, Stdev: {stdev} with: {param}\")"
   ]
  },
  {
   "cell_type": "markdown",
   "metadata": {},
   "source": [
    "### glorot_normal has the best accuracy score at 75.2%"
   ]
  },
  {
   "cell_type": "markdown",
   "metadata": {},
   "source": [
    "## Ok, that's enough for now. All told, through hyperparameter tuning we ended up on the following:\n",
    "\n",
    "##  Batch Size: 60\n",
    "##  Epochs: 100\n",
    "##  Optimizer: nadam\n",
    "## * Learning Rate: 0.008\n",
    "## * Weight Initialization: glorot_normal"
   ]
  },
  {
   "cell_type": "code",
   "execution_count": null,
   "metadata": {},
   "outputs": [],
   "source": []
  }
 ],
 "metadata": {
  "kernelspec": {
   "display_name": "U4-S2-NNF-DS10",
   "language": "python",
   "name": "u4-s2-nnf-ds10"
  },
  "language_info": {
   "codemirror_mode": {
    "name": "ipython",
    "version": 3
   },
   "file_extension": ".py",
   "mimetype": "text/x-python",
   "name": "python",
   "nbconvert_exporter": "python",
   "pygments_lexer": "ipython3",
   "version": "3.7.0"
  }
 },
 "nbformat": 4,
 "nbformat_minor": 4
}
